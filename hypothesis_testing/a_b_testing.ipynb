{
 "cells": [
  {
   "cell_type": "code",
   "execution_count": 1,
   "id": "8909dff5",
   "metadata": {},
   "outputs": [],
   "source": [
    "import pandas as pd\n",
    "import numpy as np\n",
    "def load_data(file_path):\n",
    "    try:\n",
    "        df = pd.read_csv(file_path)\n",
    "        print(df.head(5))\n",
    "        return df\n",
    "    except FileNotFoundError as e:\n",
    "        print(f\"Error: The file {file_path} was not found due to {e}.\")\n",
    "\n"
   ]
  },
  {
   "cell_type": "code",
   "execution_count": 2,
   "id": "0375beb2",
   "metadata": {},
   "outputs": [
    {
     "name": "stdout",
     "output_type": "stream",
     "text": [
      "Requirement already satisfied: plotly in /Users/vijiashok/Documents/vscode_projects/trial_projects/phd_practice/.venv/lib/python3.13/site-packages (6.1.2)\n",
      "Requirement already satisfied: narwhals>=1.15.1 in /Users/vijiashok/Documents/vscode_projects/trial_projects/phd_practice/.venv/lib/python3.13/site-packages (from plotly) (1.42.1)\n",
      "Requirement already satisfied: packaging in /Users/vijiashok/Documents/vscode_projects/trial_projects/phd_practice/.venv/lib/python3.13/site-packages (from plotly) (25.0)\n",
      "Requirement already satisfied: scipy in /Users/vijiashok/Documents/vscode_projects/trial_projects/phd_practice/.venv/lib/python3.13/site-packages (1.15.3)\n",
      "Requirement already satisfied: numpy<2.5,>=1.23.5 in /Users/vijiashok/Documents/vscode_projects/trial_projects/phd_practice/.venv/lib/python3.13/site-packages (from scipy) (2.3.0)\n",
      "Requirement already satisfied: statsmodels in /Users/vijiashok/Documents/vscode_projects/trial_projects/phd_practice/.venv/lib/python3.13/site-packages (0.14.4)\n",
      "Requirement already satisfied: numpy<3,>=1.22.3 in /Users/vijiashok/Documents/vscode_projects/trial_projects/phd_practice/.venv/lib/python3.13/site-packages (from statsmodels) (2.3.0)\n",
      "Requirement already satisfied: scipy!=1.9.2,>=1.8 in /Users/vijiashok/Documents/vscode_projects/trial_projects/phd_practice/.venv/lib/python3.13/site-packages (from statsmodels) (1.15.3)\n",
      "Requirement already satisfied: pandas!=2.1.0,>=1.4 in /Users/vijiashok/Documents/vscode_projects/trial_projects/phd_practice/.venv/lib/python3.13/site-packages (from statsmodels) (2.3.0)\n",
      "Requirement already satisfied: patsy>=0.5.6 in /Users/vijiashok/Documents/vscode_projects/trial_projects/phd_practice/.venv/lib/python3.13/site-packages (from statsmodels) (1.0.1)\n",
      "Requirement already satisfied: packaging>=21.3 in /Users/vijiashok/Documents/vscode_projects/trial_projects/phd_practice/.venv/lib/python3.13/site-packages (from statsmodels) (25.0)\n",
      "Requirement already satisfied: python-dateutil>=2.8.2 in /Users/vijiashok/Documents/vscode_projects/trial_projects/phd_practice/.venv/lib/python3.13/site-packages (from pandas!=2.1.0,>=1.4->statsmodels) (2.9.0.post0)\n",
      "Requirement already satisfied: pytz>=2020.1 in /Users/vijiashok/Documents/vscode_projects/trial_projects/phd_practice/.venv/lib/python3.13/site-packages (from pandas!=2.1.0,>=1.4->statsmodels) (2025.2)\n",
      "Requirement already satisfied: tzdata>=2022.7 in /Users/vijiashok/Documents/vscode_projects/trial_projects/phd_practice/.venv/lib/python3.13/site-packages (from pandas!=2.1.0,>=1.4->statsmodels) (2025.2)\n",
      "Requirement already satisfied: six>=1.5 in /Users/vijiashok/Documents/vscode_projects/trial_projects/phd_practice/.venv/lib/python3.13/site-packages (from python-dateutil>=2.8.2->pandas!=2.1.0,>=1.4->statsmodels) (1.17.0)\n"
     ]
    }
   ],
   "source": [
    "!pip install plotly\n",
    "!pip install scipy\n",
    "!pip install statsmodels"
   ]
  },
  {
   "cell_type": "code",
   "execution_count": 3,
   "id": "8a24674d",
   "metadata": {},
   "outputs": [
    {
     "name": "stdout",
     "output_type": "stream",
     "text": [
      "         Theme  Click Through Rate  Conversion Rate  Bounce Rate  \\\n",
      "0  Light Theme            0.054920         0.282367     0.405085   \n",
      "1  Light Theme            0.113932         0.032973     0.732759   \n",
      "2   Dark Theme            0.323352         0.178763     0.296543   \n",
      "3  Light Theme            0.485836         0.325225     0.245001   \n",
      "4  Light Theme            0.034783         0.196766     0.765100   \n",
      "\n",
      "   Scroll_Depth  Age   Location  Session_Duration Purchases Added_to_Cart  \n",
      "0     72.489458   25    Chennai              1535        No           Yes  \n",
      "1     61.858568   19       Pune               303        No           Yes  \n",
      "2     45.737376   47    Chennai               563       Yes           Yes  \n",
      "3     76.305298   58       Pune               385       Yes            No  \n",
      "4     48.927407   25  New Delhi              1437        No            No  \n"
     ]
    },
    {
     "data": {
      "text/html": [
       "<div>\n",
       "<style scoped>\n",
       "    .dataframe tbody tr th:only-of-type {\n",
       "        vertical-align: middle;\n",
       "    }\n",
       "\n",
       "    .dataframe tbody tr th {\n",
       "        vertical-align: top;\n",
       "    }\n",
       "\n",
       "    .dataframe thead th {\n",
       "        text-align: right;\n",
       "    }\n",
       "</style>\n",
       "<table border=\"1\" class=\"dataframe\">\n",
       "  <thead>\n",
       "    <tr style=\"text-align: right;\">\n",
       "      <th></th>\n",
       "      <th>Click Through Rate</th>\n",
       "      <th>Conversion Rate</th>\n",
       "      <th>Bounce Rate</th>\n",
       "      <th>Scroll_Depth</th>\n",
       "      <th>Age</th>\n",
       "      <th>Session_Duration</th>\n",
       "    </tr>\n",
       "  </thead>\n",
       "  <tbody>\n",
       "    <tr>\n",
       "      <th>count</th>\n",
       "      <td>1000.000000</td>\n",
       "      <td>1000.000000</td>\n",
       "      <td>1000.000000</td>\n",
       "      <td>1000.000000</td>\n",
       "      <td>1000.000000</td>\n",
       "      <td>1000.000000</td>\n",
       "    </tr>\n",
       "    <tr>\n",
       "      <th>mean</th>\n",
       "      <td>0.256048</td>\n",
       "      <td>0.253312</td>\n",
       "      <td>0.505758</td>\n",
       "      <td>50.319494</td>\n",
       "      <td>41.528000</td>\n",
       "      <td>924.999000</td>\n",
       "    </tr>\n",
       "    <tr>\n",
       "      <th>std</th>\n",
       "      <td>0.139265</td>\n",
       "      <td>0.139092</td>\n",
       "      <td>0.172195</td>\n",
       "      <td>16.895269</td>\n",
       "      <td>14.114334</td>\n",
       "      <td>508.231723</td>\n",
       "    </tr>\n",
       "    <tr>\n",
       "      <th>min</th>\n",
       "      <td>0.010767</td>\n",
       "      <td>0.010881</td>\n",
       "      <td>0.200720</td>\n",
       "      <td>20.011738</td>\n",
       "      <td>18.000000</td>\n",
       "      <td>38.000000</td>\n",
       "    </tr>\n",
       "    <tr>\n",
       "      <th>25%</th>\n",
       "      <td>0.140794</td>\n",
       "      <td>0.131564</td>\n",
       "      <td>0.353609</td>\n",
       "      <td>35.655167</td>\n",
       "      <td>29.000000</td>\n",
       "      <td>466.500000</td>\n",
       "    </tr>\n",
       "    <tr>\n",
       "      <th>50%</th>\n",
       "      <td>0.253715</td>\n",
       "      <td>0.252823</td>\n",
       "      <td>0.514049</td>\n",
       "      <td>51.130712</td>\n",
       "      <td>42.000000</td>\n",
       "      <td>931.000000</td>\n",
       "    </tr>\n",
       "    <tr>\n",
       "      <th>75%</th>\n",
       "      <td>0.370674</td>\n",
       "      <td>0.373040</td>\n",
       "      <td>0.648557</td>\n",
       "      <td>64.666258</td>\n",
       "      <td>54.000000</td>\n",
       "      <td>1375.250000</td>\n",
       "    </tr>\n",
       "    <tr>\n",
       "      <th>max</th>\n",
       "      <td>0.499989</td>\n",
       "      <td>0.498916</td>\n",
       "      <td>0.799658</td>\n",
       "      <td>79.997108</td>\n",
       "      <td>65.000000</td>\n",
       "      <td>1797.000000</td>\n",
       "    </tr>\n",
       "  </tbody>\n",
       "</table>\n",
       "</div>"
      ],
      "text/plain": [
       "       Click Through Rate  Conversion Rate  Bounce Rate  Scroll_Depth  \\\n",
       "count         1000.000000      1000.000000  1000.000000   1000.000000   \n",
       "mean             0.256048         0.253312     0.505758     50.319494   \n",
       "std              0.139265         0.139092     0.172195     16.895269   \n",
       "min              0.010767         0.010881     0.200720     20.011738   \n",
       "25%              0.140794         0.131564     0.353609     35.655167   \n",
       "50%              0.253715         0.252823     0.514049     51.130712   \n",
       "75%              0.370674         0.373040     0.648557     64.666258   \n",
       "max              0.499989         0.498916     0.799658     79.997108   \n",
       "\n",
       "               Age  Session_Duration  \n",
       "count  1000.000000       1000.000000  \n",
       "mean     41.528000        924.999000  \n",
       "std      14.114334        508.231723  \n",
       "min      18.000000         38.000000  \n",
       "25%      29.000000        466.500000  \n",
       "50%      42.000000        931.000000  \n",
       "75%      54.000000       1375.250000  \n",
       "max      65.000000       1797.000000  "
      ]
     },
     "execution_count": 3,
     "metadata": {},
     "output_type": "execute_result"
    }
   ],
   "source": [
    "import plotly.express as px\n",
    "import plotly.graph_objects as go\n",
    "from statsmodels.stats.proportion import proportions_ztest\n",
    "from scipy import stats\n",
    "\n",
    "\n",
    "#Let's analyse data basic info\n",
    "df = load_data('./website_ab_test.csv')\n",
    "df.describe()\n"
   ]
  },
  {
   "cell_type": "code",
   "execution_count": 4,
   "id": "72807303",
   "metadata": {},
   "outputs": [
    {
     "name": "stdout",
     "output_type": "stream",
     "text": [
      "<class 'pandas.core.frame.DataFrame'>\n",
      "RangeIndex: 1000 entries, 0 to 999\n",
      "Data columns (total 10 columns):\n",
      " #   Column              Non-Null Count  Dtype  \n",
      "---  ------              --------------  -----  \n",
      " 0   Theme               1000 non-null   object \n",
      " 1   Click Through Rate  1000 non-null   float64\n",
      " 2   Conversion Rate     1000 non-null   float64\n",
      " 3   Bounce Rate         1000 non-null   float64\n",
      " 4   Scroll_Depth        1000 non-null   float64\n",
      " 5   Age                 1000 non-null   int64  \n",
      " 6   Location            1000 non-null   object \n",
      " 7   Session_Duration    1000 non-null   int64  \n",
      " 8   Purchases           1000 non-null   object \n",
      " 9   Added_to_Cart       1000 non-null   object \n",
      "dtypes: float64(4), int64(2), object(4)\n",
      "memory usage: 78.3+ KB\n"
     ]
    }
   ],
   "source": [
    "df.info()"
   ]
  },
  {
   "cell_type": "code",
   "execution_count": 5,
   "id": "20f2e645",
   "metadata": {},
   "outputs": [
    {
     "data": {
      "text/plain": [
       "Theme                 0\n",
       "Click Through Rate    0\n",
       "Conversion Rate       0\n",
       "Bounce Rate           0\n",
       "Scroll_Depth          0\n",
       "Age                   0\n",
       "Location              0\n",
       "Session_Duration      0\n",
       "Purchases             0\n",
       "Added_to_Cart         0\n",
       "dtype: int64"
      ]
     },
     "execution_count": 5,
     "metadata": {},
     "output_type": "execute_result"
    }
   ],
   "source": [
    "df.isnull().sum()"
   ]
  },
  {
   "cell_type": "markdown",
   "id": "e6541812",
   "metadata": {},
   "source": [
    "Theme: dark or light\n",
    "<br>\n",
    "\n",
    "**Conversion Rate:** The percentage of users who signed up on the platform after visiting for the first time.\n",
    "Bounce Rate: The percentage of users who leave the website without further interaction after visiting a single page.\n",
    "Scroll Depth: The depth to which users scroll through the website pages.\n",
    "Age: The age of the user.\n",
    "Location: The location of the user.\n",
    "Session Duration: The duration of the user’s session on the website.\n",
    "Purchases: Whether the user purchased the book (Yes/No).\n",
    "Added_to_Cart: Whether the user added books to the cart (Yes/No)."
   ]
  },
  {
   "cell_type": "markdown",
   "id": "86c22a7a",
   "metadata": {},
   "source": [
    "#### Scatter plot\n",
    "####  Histogram\n",
    "#### line plot\n",
    "\n",
    "# Scatter plot for 'click through rate' and 'conversion rate'"
   ]
  },
  {
   "cell_type": "markdown",
   "id": "3025fa4b",
   "metadata": {},
   "source": []
  },
  {
   "cell_type": "code",
   "execution_count": 6,
   "id": "6d4e2516",
   "metadata": {},
   "outputs": [
    {
     "name": "stderr",
     "output_type": "stream",
     "text": [
      "/Users/vijiashok/Documents/vscode_projects/trial_projects/phd_practice/.venv/lib/python3.13/site-packages/statsmodels/regression/linear_model.py:409: RuntimeWarning: divide by zero encountered in dot\n",
      "  return np.dot(exog, params)\n",
      "/Users/vijiashok/Documents/vscode_projects/trial_projects/phd_practice/.venv/lib/python3.13/site-packages/statsmodels/regression/linear_model.py:409: RuntimeWarning: overflow encountered in dot\n",
      "  return np.dot(exog, params)\n",
      "/Users/vijiashok/Documents/vscode_projects/trial_projects/phd_practice/.venv/lib/python3.13/site-packages/statsmodels/regression/linear_model.py:409: RuntimeWarning: invalid value encountered in dot\n",
      "  return np.dot(exog, params)\n"
     ]
    },
    {
     "data": {
      "application/vnd.plotly.v1+json": {
       "config": {
        "plotlyServerURL": "https://plot.ly"
       },
       "data": [
        {
         "hovertemplate": "Theme=Light Theme<br>Click Through Rate=%{x}<br>Conversion Rate=%{y}<extra></extra>",
         "legendgroup": "Light Theme",
         "marker": {
          "color": "#636efa",
          "symbol": "circle"
         },
         "mode": "markers",
         "name": "Light Theme",
         "orientation": "v",
         "showlegend": true,
         "type": "scatter",
         "x": {
          "bdata": "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",
          "dtype": "f8"
         },
         "xaxis": "x",
         "y": {
          "bdata": "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",
          "dtype": "f8"
         },
         "yaxis": "y"
        },
        {
         "hovertemplate": "<b>OLS trendline</b><br>Conversion Rate = -0.0875912 * Click Through Rate + 0.277104<br>R<sup>2</sup>=0.007665<br><br>Theme=Light Theme<br>Click Through Rate=%{x}<br>Conversion Rate=%{y} <b>(trend)</b><extra></extra>",
         "legendgroup": "Light Theme",
         "marker": {
          "color": "#636efa",
          "symbol": "circle"
         },
         "mode": "lines",
         "name": "Light Theme",
         "showlegend": false,
         "type": "scatter",
         "x": {
          "bdata": "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",
          "dtype": "f8"
         },
         "xaxis": "x",
         "y": {
          "bdata": "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",
          "dtype": "f8"
         },
         "yaxis": "y"
        },
        {
         "hovertemplate": "Theme=Dark Theme<br>Click Through Rate=%{x}<br>Conversion Rate=%{y}<extra></extra>",
         "legendgroup": "Dark Theme",
         "marker": {
          "color": "#EF553B",
          "symbol": "circle"
         },
         "mode": "markers",
         "name": "Dark Theme",
         "orientation": "v",
         "showlegend": true,
         "type": "scatter",
         "x": {
          "bdata": "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",
          "dtype": "f8"
         },
         "xaxis": "x",
         "y": {
          "bdata": "eq7c97bhxj/WhxwfyRbEP6PsoiGik6M/0e+bekNnyz/ccQH3skLRP7bD3gF9/sU/VcfrbAr1qD/otbjomX3NP9Kh00Rypto/3fauqqGc0z8Vpb1ZUGGnP4rbEDO039k/G7xRTQ4R0z/hNP9bVci9P77GvgilFd0/m/LR+2Ml3T97J2oVESG9Pw8MjfweUd0/iTSwV3RKwD9yxPUsonPFPwRdi62RCMM/YQRYVPKFzj9ZXXOQzp/EP3lxOMM/1sc/FRIijP2Bzj9hmZLrUQq8PzXvmloO6MQ/Cj3XtM6WoD+MEwOSu+LXP9bOmAY2ONc/uEuYv2HLwz/HEFWZmCu7P0L1jSQzscA/iomQ0x863j/6yLxcuHPGP+N7OKM4lNg/BPSD0K1U1z+esW8bp57XP8UANVBVXsc/I1t0P8wdtD9emKzzmcfRPzSCwdpQst8/c1CmD5JKoT9AzSt2k86zPyyHybc2a9Q/NhzR5vorpj8+7y4XUoG1P4DrA1QlSaQ/hC5LjqCj1D9y3Q0CjkPdP37ueCCuUNU/fAZn6IZU0T9O8HFL7KGSP1alLMfXQsM/uCuu6RlJzD9isTdAFW7dP5yzdp2wFdE/S+OCW5YcwT9Hku8hs4LHP4CSNF1dgdY/Gq6axym93z+KWosNVSOaP6lbVUL1sso/AIbgY8Gb1D/BgZewZK7WP8lXE2ZC3ak/ysFraEgm2z/fQZguQt3UP9+Upejwdt0/Yn81DD9H1T/pdBopuxiSPyZzCwXBi7w/sbKP+yxi2j/ve4Mr9wzEP8aEJPxiU9I/ug6pyo+X0T/aDthv1lrJPwY0gvGh1tc/c4SiyRVu2T9aCI89vEHWPznGqvadoK0/lndP6R2uvz8UcGQwfQbfP5MMCDSuhtQ/8XWlrNuJzT9kS2tpfC2/P0n9GIDk27k/n0krHlMWwj/9pHXcFB3JPyAD914JOdk/gIHNOpO3yT9f3yBZEzbeP3UTnisNhNg/7C+Oqo/Erj/hsMHAaAWrP/9dcAGgT8w/w+42q2cb0j8p1ygQzLXQP7bKw4w0BdI/aFAGUZlukD+oG1WaAF/XP3WZWDBOHcI/JVqpfzYv2T/Dpg1kBO7HP2vRhik1QN4/Sdt8pjgw0D9vf6O9QP/NP4pcBE9JjrM/8MWaegkZyj8HicppcgjbP2VVOZBQG8k/msUStspJzD+WG2+okB/EP9kJ3v7BcdY/GpdQMvFByj+qG6VB20vFP5HGw9nhfNQ/G5aJZzL93j+9CdS1NrjFP4ayaXx8LMg/k+PtPEwhuT9zmOo9ZrbYP+evDHYGctc/sjvqNbnbvD+Cjld4yafZP2VQjtyAtdo/ndx77peS2T/qnre9nL7VP2xI4mfRIME/93clz47Ryz/U0AH6CXLNP1VSRw4mZNM/raBaJ/KvnD8QxgcdrKTWP47h7q3MUN0/YJo3QIBHsD8oQmTfG3zVP5G8IvNA3tQ/uRo/SwDs1D+SZFD7wNutP2Yp4BuAI9I/vccsGIU01j+ZBRHbqb7IP/ovH/rHStY/93Llno7t3z97CBeaJILdP2Iahb7EqKo/wfyvt8q12j+hBkvobvvQP2mEX9wZIMc//r5rJZacrT/WTYohUajNPwICqMMC+aU/LvHYZoBUoD8YQGljFu7WP7+mYNBIR7A/Atjv+2fN3T8VikQDqvLRP+OtOuQnCsY/ebZab5oFzD9UldvEkULOP2MFCxeoY9Q/WJMDJtBA1T9RB145tsPXP2mHkca3OMw/KVyk4hnyiD8zOseo37zCPzAtxV68tdY/vAe4oOG+0j/IxIlyX7bZP5cEIiUSetE/NoGYTfg4yD+tSJ1s70e7PwcHb0TB2rA/1eBsFF/u3j8agT3zy+/EP/eU1/595sk/mOBVSKfjsD9IOzNwPP/NP5oruIWsM7g/oZyv1kq/2T/02Ju1K3PdP1shA1rOJdM/h565s6W31T/Rl8NgSuzEP5TLteblOrE/JZWjdvikyT8QJ1e5CljTPz4oQw7Qzc8/cDAs35YHuj9uPXP6jxDUP3DIfBVkyNs/CjtFRLeszz8JQxp1cwm7Py/iyxlpXMk/LrDuAfro1j++kbip8V7SPx+GWfqsw74/BF8ISr8f2T+wc6Hv+GDSP8nQM9753dg/oDjqdUss0D/VaD4RrKjQP64pKHT9FMI/J6lOu/ur0T+iZHp85LbfPwfMAOhwX9g/tP3lVkZ52D/54CiIUfm9PxtG7IUZ8ss/vQfJ+p4j1T/djAkT9BLcP87i2MxzaZo/x/dKfYbDwT+Ka15o0BnaPwAtGwl6pNs/XHqPkB7H0z9naS6kdyLMP+9xqoFm9tM/YRvFX7xA2T98pvnwfITSP/pk0k0TVdE/Zxdl1Wautz/1fevuaFffP4cV2VXamdI/9h0LmdaB3j/jmE1VpcXQPwiSJEFu3tw/qR8tTXqRsz/cPj6SZhjLPw3rzWZf/qM/bXDWtXmswj8hDLcfAaPWPzEvE+hpNLM/11BGgJ/ntD9EjAKFf87APwvVDdHdZLQ/HSC0I5HPyD9mGu5DAY/ZP8QVkp1fJ9g/O9+1Ight1j96plOIFSfcP0War9vg488/GHErSt/j0j/cTEYPkuPbPwW0ResINds/g1HN4cR8rD8gEMwHayDfP4iFcQRxjNQ/uY0/AKFM2z+Y9HuSIQDfP8S419FqpaA/KI3A8Mlokj90eCnQecndPzIouLOgYLY/D9tWaW7d3z+7CGh1hzbEP+tJicjZD9w/003LA0kh3D/GTtkrZ/3UP92AV9QwaNc/vEmj7/ZS2D9LgXWhjDPMPy8pRhrr/6w/lCL2MFusqD/iLxZ2/kHTP4ceJ/LQMc0/un8YuymSjD+PfVNsN9TGP9ceYB7Knts/2qx5tsk9zz9XrAHGcke/P/Rx4J8IiKs/saAKvzDq2T/UJ78L3gKvP/HRWDxeVcg//yCsFbAl2j/b2o+3cRDcP8HLzDoB4NU/c4aOgnlIpj/ZyOkwCE7SP6xa3F+TJbc/i4JsX3ZOxz/6tGTbDxvYP+TcK/vL9dM/oiMaqrwGzT9NsXr+qM+9P2WeMeXUwdw/pbxbNo0ftD+dANThunLZP6C5z6I30sA/DyGURlTYwD+xHlqywXzTPwUDQ+WVQdc/SEQ4zAyzlz/kWZ/sHhvcP/Qno5RYrNM/ZDlyQkw5uj/iSNZ5wtnJPzB7VfNk59Q/qWQ9HFM42T/GoVfDaojZP0i99e2dSsA/n4/DD5V7yT+zXDLZkGbAPxCpxI93ptQ/brpTVnzvpj/5Xx3vECHFP11xwoh4O7g/O/wKCnHSzj+Eo8cIk5rfP3fPH5g2KZE/rQrMQnSS3T+oyfi/sT3KP+YN/WJSstg/0ZKfAy261D8yTEUGVba1P1cxrQ8shd0/iecqo8gx3z+xEpIM7gy2P6tfbFoWxsU/Grqv89kH0z8UMOYSMM/UPxHp6lLcu8Q/y9ENelE/wD+rl28KIJ3AP/f7L8I7h9U/Gglc0pfFsz9dnMZYHzXQP12IvQx9Bsc/x6ljDzDc0D94TdOIDm/aP1SAtW87isE/TG9G2oiayD/ZqFBLXNzcP9T9Aol6qNA/kTqM+k8Hoz9cKRr36pbbP9P3mrFcfrc/WV99giuv3D+mAB1kycfVP622D8gGB7E/X6WpYoiR2z9srqyJ5aegP1i+ZtKewd4/h0zOsiO5vj+kH4uE39nAP8+pdvV3XN0/tWZYdxOL2j9uuA/fOJDSPyKsHJqjibE/7v4DFmjB1T/BFYGAmlWiP463c+hrjr4/GxmAwQ5tyj9eF2JKdyTcP/NMGz18zNs/4Fos0ypryD9sggo8RtXXPyDhmKyvfsA/KGNHmcxgyD8hp78PPO7fP+CMAc/G+Ng/DeEZfrTH0T81oWb+CprZP3CFa6BxcrU/vHqbzUbh3T/WuQ3MuTyWP+jiCecNY9Y/PQxVzswbjj9GnUp500rGP0D6IgmlcNg/7vLQ4kThyD96q6dQK5HEP3sqS1JzeN8/hYXbo2Ccyz+/i3kwY8jeP239tzVZa7Q/wIlKEzoioD+2Tf0vjpi/P5H20diuudw/Q5wULdQIzj8gze6VGBjYP9MWQWqCn9Q/51YlhKwz0z8x35m22r6kP41plLwLatU/BNO7xw3tyT+c/u5fFL7FP9Y/Jk5ForM/SAeOW56grz/rWdBLEXrNP34gOiLm+cQ/z80pDom0sT//+uE3dcDHP2HENgc6zNg/atc8OlJXzj8jpNLfBs6rPxYxR7c/j9M/DU+/xT6IvT9cvxUajIDbPyeJ1L9tKrU/HWXLZ08C3z9xp4tr6CHKP9Z0jk2WZqE/QOIAkaZb2j/8FTU/tl64P5ydYoRsf94/BqJpTLdw2z/TJiwxIBPSPy6xI21M5NE/F6NeOXrirD/rJ4xvi8uxP0N3FwSDIdk/P0ATUe9puz8WLpm6jGfKP4rq3qhyKdY/ldUBX9cK3j8wNhiNSwXTP351NiM26d8/zMqJGO3l1D/ptfvlEjKsP83dv+4L7rE/VYuw1+qe3T9vmK7Qk3LMP64R1M6vW9c/g6rLcdIy0D8AttWBVQrMPw0vucS0esc/VM+7ANof3T/krTES4IbCP8kMXQkI/dM/Qb+tee1S3D8N6yfvfk3JPy7t00Qoy9Q/t6GVHojQ3z8BTZPJEwqUP90i7g4xRck/vp1y1OQC1z/x8vKXpV3PP909pkf6YNI/P3z7ZHzxmD8hPOa9bObCP7EpsaW8ssc/R131TDL00j8PokVn98G/P/QGQIFVlbY/pQLF2bRnwD81mXCdYmDRP+ktyeDAmdg/HgaAL/Nc3j8Ppa2elrHSP+HqPjTUdN8/zYEu+VCkyT8iLUrb0vfdPzEyUOEYvN8/VEpTGNIdwD9r5R7vqDnFP9A5bpT/MNM/Iug5tUWz1j/KyW2vZlbHP+WMXjYJcdI//6eyfX5h3j9N4kXi+eDaP4845GAapNE/ms8Mh/OUuD8oI+XAHzajP38XIJVsQs8/ZvZ1KQSnxj+ZniqkENK4PxWwbZkG3ts/dzaORkG91j8U+L11M1S0P2VSWiNQebA/kHq73vu71j+Av4IummfVP8UD7bycY8Y/AIGCEoCDxT/MibKiND7fP/PzCXxHm9c/KgvEO/iv1D8fSJnXe0PSP0pvXGCxidw/Z3z9M/yoxz9O2SqvaC7aPxma+hV4qNc/Rf5lH4vAwz93gb/TCtq4P+WRGKXDSIY/nQm4F62n1j/VlMiRMNDYP163uWJ8Zrk/jmT8DxvQ0z9zs5PRBrPUP7l6+ZY6Pa8/P61vYvlRxT9wt1nKP5fUP+17LrOUVsY/P+lOeG3qjz/jRoM94Ny8P1rVELnEYNY/Shi0mylS2T/PmiQDATOhP3aldgDiw8w/cvzBO8SZyz+L9JXeTT/LP2G76/goT8c/Al+YdWHSyD/g+N3941/ZP+oE7/Yja9g/ksEwu2rbvj9UvVDf5rPZP89YssVUAZs/G34gL7dkrz8=",
          "dtype": "f8"
         },
         "yaxis": "y"
        },
        {
         "hovertemplate": "<b>OLS trendline</b><br>Conversion Rate = 0.00432795 * Click Through Rate + 0.250137<br>R<sup>2</sup>=0.000019<br><br>Theme=Dark Theme<br>Click Through Rate=%{x}<br>Conversion Rate=%{y} <b>(trend)</b><extra></extra>",
         "legendgroup": "Dark Theme",
         "marker": {
          "color": "#EF553B",
          "symbol": "circle"
         },
         "mode": "lines",
         "name": "Dark Theme",
         "showlegend": false,
         "type": "scatter",
         "x": {
          "bdata": "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",
          "dtype": "f8"
         },
         "xaxis": "x",
         "y": {
          "bdata": "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",
          "dtype": "f8"
         },
         "yaxis": "y"
        }
       ],
       "layout": {
        "legend": {
         "title": {
          "text": "Theme"
         },
         "tracegroupgap": 0
        },
        "template": {
         "data": {
          "bar": [
           {
            "error_x": {
             "color": "#2a3f5f"
            },
            "error_y": {
             "color": "#2a3f5f"
            },
            "marker": {
             "line": {
              "color": "#E5ECF6",
              "width": 0.5
             },
             "pattern": {
              "fillmode": "overlay",
              "size": 10,
              "solidity": 0.2
             }
            },
            "type": "bar"
           }
          ],
          "barpolar": [
           {
            "marker": {
             "line": {
              "color": "#E5ECF6",
              "width": 0.5
             },
             "pattern": {
              "fillmode": "overlay",
              "size": 10,
              "solidity": 0.2
             }
            },
            "type": "barpolar"
           }
          ],
          "carpet": [
           {
            "aaxis": {
             "endlinecolor": "#2a3f5f",
             "gridcolor": "white",
             "linecolor": "white",
             "minorgridcolor": "white",
             "startlinecolor": "#2a3f5f"
            },
            "baxis": {
             "endlinecolor": "#2a3f5f",
             "gridcolor": "white",
             "linecolor": "white",
             "minorgridcolor": "white",
             "startlinecolor": "#2a3f5f"
            },
            "type": "carpet"
           }
          ],
          "choropleth": [
           {
            "colorbar": {
             "outlinewidth": 0,
             "ticks": ""
            },
            "type": "choropleth"
           }
          ],
          "contour": [
           {
            "colorbar": {
             "outlinewidth": 0,
             "ticks": ""
            },
            "colorscale": [
             [
              0,
              "#0d0887"
             ],
             [
              0.1111111111111111,
              "#46039f"
             ],
             [
              0.2222222222222222,
              "#7201a8"
             ],
             [
              0.3333333333333333,
              "#9c179e"
             ],
             [
              0.4444444444444444,
              "#bd3786"
             ],
             [
              0.5555555555555556,
              "#d8576b"
             ],
             [
              0.6666666666666666,
              "#ed7953"
             ],
             [
              0.7777777777777778,
              "#fb9f3a"
             ],
             [
              0.8888888888888888,
              "#fdca26"
             ],
             [
              1,
              "#f0f921"
             ]
            ],
            "type": "contour"
           }
          ],
          "contourcarpet": [
           {
            "colorbar": {
             "outlinewidth": 0,
             "ticks": ""
            },
            "type": "contourcarpet"
           }
          ],
          "heatmap": [
           {
            "colorbar": {
             "outlinewidth": 0,
             "ticks": ""
            },
            "colorscale": [
             [
              0,
              "#0d0887"
             ],
             [
              0.1111111111111111,
              "#46039f"
             ],
             [
              0.2222222222222222,
              "#7201a8"
             ],
             [
              0.3333333333333333,
              "#9c179e"
             ],
             [
              0.4444444444444444,
              "#bd3786"
             ],
             [
              0.5555555555555556,
              "#d8576b"
             ],
             [
              0.6666666666666666,
              "#ed7953"
             ],
             [
              0.7777777777777778,
              "#fb9f3a"
             ],
             [
              0.8888888888888888,
              "#fdca26"
             ],
             [
              1,
              "#f0f921"
             ]
            ],
            "type": "heatmap"
           }
          ],
          "histogram": [
           {
            "marker": {
             "pattern": {
              "fillmode": "overlay",
              "size": 10,
              "solidity": 0.2
             }
            },
            "type": "histogram"
           }
          ],
          "histogram2d": [
           {
            "colorbar": {
             "outlinewidth": 0,
             "ticks": ""
            },
            "colorscale": [
             [
              0,
              "#0d0887"
             ],
             [
              0.1111111111111111,
              "#46039f"
             ],
             [
              0.2222222222222222,
              "#7201a8"
             ],
             [
              0.3333333333333333,
              "#9c179e"
             ],
             [
              0.4444444444444444,
              "#bd3786"
             ],
             [
              0.5555555555555556,
              "#d8576b"
             ],
             [
              0.6666666666666666,
              "#ed7953"
             ],
             [
              0.7777777777777778,
              "#fb9f3a"
             ],
             [
              0.8888888888888888,
              "#fdca26"
             ],
             [
              1,
              "#f0f921"
             ]
            ],
            "type": "histogram2d"
           }
          ],
          "histogram2dcontour": [
           {
            "colorbar": {
             "outlinewidth": 0,
             "ticks": ""
            },
            "colorscale": [
             [
              0,
              "#0d0887"
             ],
             [
              0.1111111111111111,
              "#46039f"
             ],
             [
              0.2222222222222222,
              "#7201a8"
             ],
             [
              0.3333333333333333,
              "#9c179e"
             ],
             [
              0.4444444444444444,
              "#bd3786"
             ],
             [
              0.5555555555555556,
              "#d8576b"
             ],
             [
              0.6666666666666666,
              "#ed7953"
             ],
             [
              0.7777777777777778,
              "#fb9f3a"
             ],
             [
              0.8888888888888888,
              "#fdca26"
             ],
             [
              1,
              "#f0f921"
             ]
            ],
            "type": "histogram2dcontour"
           }
          ],
          "mesh3d": [
           {
            "colorbar": {
             "outlinewidth": 0,
             "ticks": ""
            },
            "type": "mesh3d"
           }
          ],
          "parcoords": [
           {
            "line": {
             "colorbar": {
              "outlinewidth": 0,
              "ticks": ""
             }
            },
            "type": "parcoords"
           }
          ],
          "pie": [
           {
            "automargin": true,
            "type": "pie"
           }
          ],
          "scatter": [
           {
            "fillpattern": {
             "fillmode": "overlay",
             "size": 10,
             "solidity": 0.2
            },
            "type": "scatter"
           }
          ],
          "scatter3d": [
           {
            "line": {
             "colorbar": {
              "outlinewidth": 0,
              "ticks": ""
             }
            },
            "marker": {
             "colorbar": {
              "outlinewidth": 0,
              "ticks": ""
             }
            },
            "type": "scatter3d"
           }
          ],
          "scattercarpet": [
           {
            "marker": {
             "colorbar": {
              "outlinewidth": 0,
              "ticks": ""
             }
            },
            "type": "scattercarpet"
           }
          ],
          "scattergeo": [
           {
            "marker": {
             "colorbar": {
              "outlinewidth": 0,
              "ticks": ""
             }
            },
            "type": "scattergeo"
           }
          ],
          "scattergl": [
           {
            "marker": {
             "colorbar": {
              "outlinewidth": 0,
              "ticks": ""
             }
            },
            "type": "scattergl"
           }
          ],
          "scattermap": [
           {
            "marker": {
             "colorbar": {
              "outlinewidth": 0,
              "ticks": ""
             }
            },
            "type": "scattermap"
           }
          ],
          "scattermapbox": [
           {
            "marker": {
             "colorbar": {
              "outlinewidth": 0,
              "ticks": ""
             }
            },
            "type": "scattermapbox"
           }
          ],
          "scatterpolar": [
           {
            "marker": {
             "colorbar": {
              "outlinewidth": 0,
              "ticks": ""
             }
            },
            "type": "scatterpolar"
           }
          ],
          "scatterpolargl": [
           {
            "marker": {
             "colorbar": {
              "outlinewidth": 0,
              "ticks": ""
             }
            },
            "type": "scatterpolargl"
           }
          ],
          "scatterternary": [
           {
            "marker": {
             "colorbar": {
              "outlinewidth": 0,
              "ticks": ""
             }
            },
            "type": "scatterternary"
           }
          ],
          "surface": [
           {
            "colorbar": {
             "outlinewidth": 0,
             "ticks": ""
            },
            "colorscale": [
             [
              0,
              "#0d0887"
             ],
             [
              0.1111111111111111,
              "#46039f"
             ],
             [
              0.2222222222222222,
              "#7201a8"
             ],
             [
              0.3333333333333333,
              "#9c179e"
             ],
             [
              0.4444444444444444,
              "#bd3786"
             ],
             [
              0.5555555555555556,
              "#d8576b"
             ],
             [
              0.6666666666666666,
              "#ed7953"
             ],
             [
              0.7777777777777778,
              "#fb9f3a"
             ],
             [
              0.8888888888888888,
              "#fdca26"
             ],
             [
              1,
              "#f0f921"
             ]
            ],
            "type": "surface"
           }
          ],
          "table": [
           {
            "cells": {
             "fill": {
              "color": "#EBF0F8"
             },
             "line": {
              "color": "white"
             }
            },
            "header": {
             "fill": {
              "color": "#C8D4E3"
             },
             "line": {
              "color": "white"
             }
            },
            "type": "table"
           }
          ]
         },
         "layout": {
          "annotationdefaults": {
           "arrowcolor": "#2a3f5f",
           "arrowhead": 0,
           "arrowwidth": 1
          },
          "autotypenumbers": "strict",
          "coloraxis": {
           "colorbar": {
            "outlinewidth": 0,
            "ticks": ""
           }
          },
          "colorscale": {
           "diverging": [
            [
             0,
             "#8e0152"
            ],
            [
             0.1,
             "#c51b7d"
            ],
            [
             0.2,
             "#de77ae"
            ],
            [
             0.3,
             "#f1b6da"
            ],
            [
             0.4,
             "#fde0ef"
            ],
            [
             0.5,
             "#f7f7f7"
            ],
            [
             0.6,
             "#e6f5d0"
            ],
            [
             0.7,
             "#b8e186"
            ],
            [
             0.8,
             "#7fbc41"
            ],
            [
             0.9,
             "#4d9221"
            ],
            [
             1,
             "#276419"
            ]
           ],
           "sequential": [
            [
             0,
             "#0d0887"
            ],
            [
             0.1111111111111111,
             "#46039f"
            ],
            [
             0.2222222222222222,
             "#7201a8"
            ],
            [
             0.3333333333333333,
             "#9c179e"
            ],
            [
             0.4444444444444444,
             "#bd3786"
            ],
            [
             0.5555555555555556,
             "#d8576b"
            ],
            [
             0.6666666666666666,
             "#ed7953"
            ],
            [
             0.7777777777777778,
             "#fb9f3a"
            ],
            [
             0.8888888888888888,
             "#fdca26"
            ],
            [
             1,
             "#f0f921"
            ]
           ],
           "sequentialminus": [
            [
             0,
             "#0d0887"
            ],
            [
             0.1111111111111111,
             "#46039f"
            ],
            [
             0.2222222222222222,
             "#7201a8"
            ],
            [
             0.3333333333333333,
             "#9c179e"
            ],
            [
             0.4444444444444444,
             "#bd3786"
            ],
            [
             0.5555555555555556,
             "#d8576b"
            ],
            [
             0.6666666666666666,
             "#ed7953"
            ],
            [
             0.7777777777777778,
             "#fb9f3a"
            ],
            [
             0.8888888888888888,
             "#fdca26"
            ],
            [
             1,
             "#f0f921"
            ]
           ]
          },
          "colorway": [
           "#636efa",
           "#EF553B",
           "#00cc96",
           "#ab63fa",
           "#FFA15A",
           "#19d3f3",
           "#FF6692",
           "#B6E880",
           "#FF97FF",
           "#FECB52"
          ],
          "font": {
           "color": "#2a3f5f"
          },
          "geo": {
           "bgcolor": "white",
           "lakecolor": "white",
           "landcolor": "#E5ECF6",
           "showlakes": true,
           "showland": true,
           "subunitcolor": "white"
          },
          "hoverlabel": {
           "align": "left"
          },
          "hovermode": "closest",
          "mapbox": {
           "style": "light"
          },
          "paper_bgcolor": "white",
          "plot_bgcolor": "#E5ECF6",
          "polar": {
           "angularaxis": {
            "gridcolor": "white",
            "linecolor": "white",
            "ticks": ""
           },
           "bgcolor": "#E5ECF6",
           "radialaxis": {
            "gridcolor": "white",
            "linecolor": "white",
            "ticks": ""
           }
          },
          "scene": {
           "xaxis": {
            "backgroundcolor": "#E5ECF6",
            "gridcolor": "white",
            "gridwidth": 2,
            "linecolor": "white",
            "showbackground": true,
            "ticks": "",
            "zerolinecolor": "white"
           },
           "yaxis": {
            "backgroundcolor": "#E5ECF6",
            "gridcolor": "white",
            "gridwidth": 2,
            "linecolor": "white",
            "showbackground": true,
            "ticks": "",
            "zerolinecolor": "white"
           },
           "zaxis": {
            "backgroundcolor": "#E5ECF6",
            "gridcolor": "white",
            "gridwidth": 2,
            "linecolor": "white",
            "showbackground": true,
            "ticks": "",
            "zerolinecolor": "white"
           }
          },
          "shapedefaults": {
           "line": {
            "color": "#2a3f5f"
           }
          },
          "ternary": {
           "aaxis": {
            "gridcolor": "white",
            "linecolor": "white",
            "ticks": ""
           },
           "baxis": {
            "gridcolor": "white",
            "linecolor": "white",
            "ticks": ""
           },
           "bgcolor": "#E5ECF6",
           "caxis": {
            "gridcolor": "white",
            "linecolor": "white",
            "ticks": ""
           }
          },
          "title": {
           "x": 0.05
          },
          "xaxis": {
           "automargin": true,
           "gridcolor": "white",
           "linecolor": "white",
           "ticks": "",
           "title": {
            "standoff": 15
           },
           "zerolinecolor": "white",
           "zerolinewidth": 2
          },
          "yaxis": {
           "automargin": true,
           "gridcolor": "white",
           "linecolor": "white",
           "ticks": "",
           "title": {
            "standoff": 15
           },
           "zerolinecolor": "white",
           "zerolinewidth": 2
          }
         }
        },
        "title": {
         "text": "CTR vs Conversion Rate"
        },
        "xaxis": {
         "anchor": "y",
         "domain": [
          0,
          1
         ],
         "title": {
          "text": "Click Through Rate"
         }
        },
        "yaxis": {
         "anchor": "x",
         "domain": [
          0,
          1
         ],
         "title": {
          "text": "Conversion Rate"
         }
        }
       }
      }
     },
     "metadata": {},
     "output_type": "display_data"
    }
   ],
   "source": [
    "# Scatter plot for Click Through Rate and Conversion Rate\n",
    "fig = px.scatter(df, x='Click Through Rate',\n",
    "                 y='Conversion Rate', color='Theme',\n",
    "                 title='CTR vs Conversion Rate', trendline='ols')\n",
    "fig.show()"
   ]
  },
  {
   "cell_type": "code",
   "execution_count": 9,
   "id": "971d3be8",
   "metadata": {},
   "outputs": [
    {
     "data": {
      "application/vnd.plotly.v1+json": {
       "config": {
        "plotlyServerURL": "https://plot.ly"
       },
       "data": [
        {
         "name": "Light Theme",
         "opacity": 0.6,
         "type": "histogram",
         "x": {
          "bdata": "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",
          "dtype": "f8"
         }
        },
        {
         "name": "Dark Theme",
         "opacity": 0.6,
         "type": "histogram",
         "x": {
          "bdata": "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",
          "dtype": "f8"
         }
        }
       ],
       "layout": {
        "bargap": 0.1,
        "barmode": "group",
        "template": {
         "data": {
          "bar": [
           {
            "error_x": {
             "color": "#2a3f5f"
            },
            "error_y": {
             "color": "#2a3f5f"
            },
            "marker": {
             "line": {
              "color": "#E5ECF6",
              "width": 0.5
             },
             "pattern": {
              "fillmode": "overlay",
              "size": 10,
              "solidity": 0.2
             }
            },
            "type": "bar"
           }
          ],
          "barpolar": [
           {
            "marker": {
             "line": {
              "color": "#E5ECF6",
              "width": 0.5
             },
             "pattern": {
              "fillmode": "overlay",
              "size": 10,
              "solidity": 0.2
             }
            },
            "type": "barpolar"
           }
          ],
          "carpet": [
           {
            "aaxis": {
             "endlinecolor": "#2a3f5f",
             "gridcolor": "white",
             "linecolor": "white",
             "minorgridcolor": "white",
             "startlinecolor": "#2a3f5f"
            },
            "baxis": {
             "endlinecolor": "#2a3f5f",
             "gridcolor": "white",
             "linecolor": "white",
             "minorgridcolor": "white",
             "startlinecolor": "#2a3f5f"
            },
            "type": "carpet"
           }
          ],
          "choropleth": [
           {
            "colorbar": {
             "outlinewidth": 0,
             "ticks": ""
            },
            "type": "choropleth"
           }
          ],
          "contour": [
           {
            "colorbar": {
             "outlinewidth": 0,
             "ticks": ""
            },
            "colorscale": [
             [
              0,
              "#0d0887"
             ],
             [
              0.1111111111111111,
              "#46039f"
             ],
             [
              0.2222222222222222,
              "#7201a8"
             ],
             [
              0.3333333333333333,
              "#9c179e"
             ],
             [
              0.4444444444444444,
              "#bd3786"
             ],
             [
              0.5555555555555556,
              "#d8576b"
             ],
             [
              0.6666666666666666,
              "#ed7953"
             ],
             [
              0.7777777777777778,
              "#fb9f3a"
             ],
             [
              0.8888888888888888,
              "#fdca26"
             ],
             [
              1,
              "#f0f921"
             ]
            ],
            "type": "contour"
           }
          ],
          "contourcarpet": [
           {
            "colorbar": {
             "outlinewidth": 0,
             "ticks": ""
            },
            "type": "contourcarpet"
           }
          ],
          "heatmap": [
           {
            "colorbar": {
             "outlinewidth": 0,
             "ticks": ""
            },
            "colorscale": [
             [
              0,
              "#0d0887"
             ],
             [
              0.1111111111111111,
              "#46039f"
             ],
             [
              0.2222222222222222,
              "#7201a8"
             ],
             [
              0.3333333333333333,
              "#9c179e"
             ],
             [
              0.4444444444444444,
              "#bd3786"
             ],
             [
              0.5555555555555556,
              "#d8576b"
             ],
             [
              0.6666666666666666,
              "#ed7953"
             ],
             [
              0.7777777777777778,
              "#fb9f3a"
             ],
             [
              0.8888888888888888,
              "#fdca26"
             ],
             [
              1,
              "#f0f921"
             ]
            ],
            "type": "heatmap"
           }
          ],
          "histogram": [
           {
            "marker": {
             "pattern": {
              "fillmode": "overlay",
              "size": 10,
              "solidity": 0.2
             }
            },
            "type": "histogram"
           }
          ],
          "histogram2d": [
           {
            "colorbar": {
             "outlinewidth": 0,
             "ticks": ""
            },
            "colorscale": [
             [
              0,
              "#0d0887"
             ],
             [
              0.1111111111111111,
              "#46039f"
             ],
             [
              0.2222222222222222,
              "#7201a8"
             ],
             [
              0.3333333333333333,
              "#9c179e"
             ],
             [
              0.4444444444444444,
              "#bd3786"
             ],
             [
              0.5555555555555556,
              "#d8576b"
             ],
             [
              0.6666666666666666,
              "#ed7953"
             ],
             [
              0.7777777777777778,
              "#fb9f3a"
             ],
             [
              0.8888888888888888,
              "#fdca26"
             ],
             [
              1,
              "#f0f921"
             ]
            ],
            "type": "histogram2d"
           }
          ],
          "histogram2dcontour": [
           {
            "colorbar": {
             "outlinewidth": 0,
             "ticks": ""
            },
            "colorscale": [
             [
              0,
              "#0d0887"
             ],
             [
              0.1111111111111111,
              "#46039f"
             ],
             [
              0.2222222222222222,
              "#7201a8"
             ],
             [
              0.3333333333333333,
              "#9c179e"
             ],
             [
              0.4444444444444444,
              "#bd3786"
             ],
             [
              0.5555555555555556,
              "#d8576b"
             ],
             [
              0.6666666666666666,
              "#ed7953"
             ],
             [
              0.7777777777777778,
              "#fb9f3a"
             ],
             [
              0.8888888888888888,
              "#fdca26"
             ],
             [
              1,
              "#f0f921"
             ]
            ],
            "type": "histogram2dcontour"
           }
          ],
          "mesh3d": [
           {
            "colorbar": {
             "outlinewidth": 0,
             "ticks": ""
            },
            "type": "mesh3d"
           }
          ],
          "parcoords": [
           {
            "line": {
             "colorbar": {
              "outlinewidth": 0,
              "ticks": ""
             }
            },
            "type": "parcoords"
           }
          ],
          "pie": [
           {
            "automargin": true,
            "type": "pie"
           }
          ],
          "scatter": [
           {
            "fillpattern": {
             "fillmode": "overlay",
             "size": 10,
             "solidity": 0.2
            },
            "type": "scatter"
           }
          ],
          "scatter3d": [
           {
            "line": {
             "colorbar": {
              "outlinewidth": 0,
              "ticks": ""
             }
            },
            "marker": {
             "colorbar": {
              "outlinewidth": 0,
              "ticks": ""
             }
            },
            "type": "scatter3d"
           }
          ],
          "scattercarpet": [
           {
            "marker": {
             "colorbar": {
              "outlinewidth": 0,
              "ticks": ""
             }
            },
            "type": "scattercarpet"
           }
          ],
          "scattergeo": [
           {
            "marker": {
             "colorbar": {
              "outlinewidth": 0,
              "ticks": ""
             }
            },
            "type": "scattergeo"
           }
          ],
          "scattergl": [
           {
            "marker": {
             "colorbar": {
              "outlinewidth": 0,
              "ticks": ""
             }
            },
            "type": "scattergl"
           }
          ],
          "scattermap": [
           {
            "marker": {
             "colorbar": {
              "outlinewidth": 0,
              "ticks": ""
             }
            },
            "type": "scattermap"
           }
          ],
          "scattermapbox": [
           {
            "marker": {
             "colorbar": {
              "outlinewidth": 0,
              "ticks": ""
             }
            },
            "type": "scattermapbox"
           }
          ],
          "scatterpolar": [
           {
            "marker": {
             "colorbar": {
              "outlinewidth": 0,
              "ticks": ""
             }
            },
            "type": "scatterpolar"
           }
          ],
          "scatterpolargl": [
           {
            "marker": {
             "colorbar": {
              "outlinewidth": 0,
              "ticks": ""
             }
            },
            "type": "scatterpolargl"
           }
          ],
          "scatterternary": [
           {
            "marker": {
             "colorbar": {
              "outlinewidth": 0,
              "ticks": ""
             }
            },
            "type": "scatterternary"
           }
          ],
          "surface": [
           {
            "colorbar": {
             "outlinewidth": 0,
             "ticks": ""
            },
            "colorscale": [
             [
              0,
              "#0d0887"
             ],
             [
              0.1111111111111111,
              "#46039f"
             ],
             [
              0.2222222222222222,
              "#7201a8"
             ],
             [
              0.3333333333333333,
              "#9c179e"
             ],
             [
              0.4444444444444444,
              "#bd3786"
             ],
             [
              0.5555555555555556,
              "#d8576b"
             ],
             [
              0.6666666666666666,
              "#ed7953"
             ],
             [
              0.7777777777777778,
              "#fb9f3a"
             ],
             [
              0.8888888888888888,
              "#fdca26"
             ],
             [
              1,
              "#f0f921"
             ]
            ],
            "type": "surface"
           }
          ],
          "table": [
           {
            "cells": {
             "fill": {
              "color": "#EBF0F8"
             },
             "line": {
              "color": "white"
             }
            },
            "header": {
             "fill": {
              "color": "#C8D4E3"
             },
             "line": {
              "color": "white"
             }
            },
            "type": "table"
           }
          ]
         },
         "layout": {
          "annotationdefaults": {
           "arrowcolor": "#2a3f5f",
           "arrowhead": 0,
           "arrowwidth": 1
          },
          "autotypenumbers": "strict",
          "coloraxis": {
           "colorbar": {
            "outlinewidth": 0,
            "ticks": ""
           }
          },
          "colorscale": {
           "diverging": [
            [
             0,
             "#8e0152"
            ],
            [
             0.1,
             "#c51b7d"
            ],
            [
             0.2,
             "#de77ae"
            ],
            [
             0.3,
             "#f1b6da"
            ],
            [
             0.4,
             "#fde0ef"
            ],
            [
             0.5,
             "#f7f7f7"
            ],
            [
             0.6,
             "#e6f5d0"
            ],
            [
             0.7,
             "#b8e186"
            ],
            [
             0.8,
             "#7fbc41"
            ],
            [
             0.9,
             "#4d9221"
            ],
            [
             1,
             "#276419"
            ]
           ],
           "sequential": [
            [
             0,
             "#0d0887"
            ],
            [
             0.1111111111111111,
             "#46039f"
            ],
            [
             0.2222222222222222,
             "#7201a8"
            ],
            [
             0.3333333333333333,
             "#9c179e"
            ],
            [
             0.4444444444444444,
             "#bd3786"
            ],
            [
             0.5555555555555556,
             "#d8576b"
            ],
            [
             0.6666666666666666,
             "#ed7953"
            ],
            [
             0.7777777777777778,
             "#fb9f3a"
            ],
            [
             0.8888888888888888,
             "#fdca26"
            ],
            [
             1,
             "#f0f921"
            ]
           ],
           "sequentialminus": [
            [
             0,
             "#0d0887"
            ],
            [
             0.1111111111111111,
             "#46039f"
            ],
            [
             0.2222222222222222,
             "#7201a8"
            ],
            [
             0.3333333333333333,
             "#9c179e"
            ],
            [
             0.4444444444444444,
             "#bd3786"
            ],
            [
             0.5555555555555556,
             "#d8576b"
            ],
            [
             0.6666666666666666,
             "#ed7953"
            ],
            [
             0.7777777777777778,
             "#fb9f3a"
            ],
            [
             0.8888888888888888,
             "#fdca26"
            ],
            [
             1,
             "#f0f921"
            ]
           ]
          },
          "colorway": [
           "#636efa",
           "#EF553B",
           "#00cc96",
           "#ab63fa",
           "#FFA15A",
           "#19d3f3",
           "#FF6692",
           "#B6E880",
           "#FF97FF",
           "#FECB52"
          ],
          "font": {
           "color": "#2a3f5f"
          },
          "geo": {
           "bgcolor": "white",
           "lakecolor": "white",
           "landcolor": "#E5ECF6",
           "showlakes": true,
           "showland": true,
           "subunitcolor": "white"
          },
          "hoverlabel": {
           "align": "left"
          },
          "hovermode": "closest",
          "mapbox": {
           "style": "light"
          },
          "paper_bgcolor": "white",
          "plot_bgcolor": "#E5ECF6",
          "polar": {
           "angularaxis": {
            "gridcolor": "white",
            "linecolor": "white",
            "ticks": ""
           },
           "bgcolor": "#E5ECF6",
           "radialaxis": {
            "gridcolor": "white",
            "linecolor": "white",
            "ticks": ""
           }
          },
          "scene": {
           "xaxis": {
            "backgroundcolor": "#E5ECF6",
            "gridcolor": "white",
            "gridwidth": 2,
            "linecolor": "white",
            "showbackground": true,
            "ticks": "",
            "zerolinecolor": "white"
           },
           "yaxis": {
            "backgroundcolor": "#E5ECF6",
            "gridcolor": "white",
            "gridwidth": 2,
            "linecolor": "white",
            "showbackground": true,
            "ticks": "",
            "zerolinecolor": "white"
           },
           "zaxis": {
            "backgroundcolor": "#E5ECF6",
            "gridcolor": "white",
            "gridwidth": 2,
            "linecolor": "white",
            "showbackground": true,
            "ticks": "",
            "zerolinecolor": "white"
           }
          },
          "shapedefaults": {
           "line": {
            "color": "#2a3f5f"
           }
          },
          "ternary": {
           "aaxis": {
            "gridcolor": "white",
            "linecolor": "white",
            "ticks": ""
           },
           "baxis": {
            "gridcolor": "white",
            "linecolor": "white",
            "ticks": ""
           },
           "bgcolor": "#E5ECF6",
           "caxis": {
            "gridcolor": "white",
            "linecolor": "white",
            "ticks": ""
           }
          },
          "title": {
           "x": 0.05
          },
          "xaxis": {
           "automargin": true,
           "gridcolor": "white",
           "linecolor": "white",
           "ticks": "",
           "title": {
            "standoff": 15
           },
           "zerolinecolor": "white",
           "zerolinewidth": 2
          },
          "yaxis": {
           "automargin": true,
           "gridcolor": "white",
           "linecolor": "white",
           "ticks": "",
           "title": {
            "standoff": 15
           },
           "zerolinecolor": "white",
           "zerolinewidth": 2
          }
         }
        },
        "title": {
         "text": "Click Through Rate by Theme"
        },
        "xaxis": {
         "title": {
          "text": "Click Through Rate"
         }
        },
        "yaxis": {
         "title": {
          "text": "Frequency"
         }
        }
       }
      }
     },
     "metadata": {},
     "output_type": "display_data"
    }
   ],
   "source": [
    "# Extract data for each theme\n",
    "light_theme_data = df[df['Theme'] == 'Light Theme']\n",
    "dark_theme_data = df[df['Theme'] == 'Dark Theme']\n",
    "\n",
    "# Create grouped bar chart for Click Through Rate\n",
    "fig = go.Figure()\n",
    "\n",
    "fig.add_trace(go.Histogram(x=light_theme_data['Click Through Rate'], name='Light Theme', opacity=0.6))\n",
    "fig.add_trace(go.Histogram(x=dark_theme_data['Click Through Rate'], name='Dark Theme', opacity=0.6))\n",
    "\n",
    "fig.update_layout(\n",
    "    title_text='Click Through Rate by Theme',\n",
    "    xaxis_title_text='Click Through Rate',\n",
    "    yaxis_title_text='Frequency',\n",
    "    barmode='group',\n",
    "    bargap=0.1\n",
    ")\n",
    "\n",
    "fig.show()"
   ]
  },
  {
   "cell_type": "code",
   "execution_count": 11,
   "id": "56b10eb3",
   "metadata": {},
   "outputs": [
    {
     "data": {
      "application/vnd.plotly.v1+json": {
       "config": {
        "plotlyServerURL": "https://plot.ly"
       },
       "data": [
        {
         "bingroup": "x",
         "hovertemplate": "Theme=Light Theme<br>Click Through Rate=%{x}<br>count=%{y}<extra></extra>",
         "legendgroup": "Light Theme",
         "marker": {
          "color": "#636efa",
          "opacity": 0.7,
          "pattern": {
           "shape": ""
          }
         },
         "name": "Light Theme",
         "nbinsx": 30,
         "orientation": "v",
         "showlegend": true,
         "type": "histogram",
         "x": {
          "bdata": "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",
          "dtype": "f8"
         },
         "xaxis": "x",
         "yaxis": "y"
        },
        {
         "bingroup": "x",
         "hovertemplate": "Theme=Dark Theme<br>Click Through Rate=%{x}<br>count=%{y}<extra></extra>",
         "legendgroup": "Dark Theme",
         "marker": {
          "color": "#EF553B",
          "opacity": 0.7,
          "pattern": {
           "shape": ""
          }
         },
         "name": "Dark Theme",
         "nbinsx": 30,
         "orientation": "v",
         "showlegend": true,
         "type": "histogram",
         "x": {
          "bdata": "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",
          "dtype": "f8"
         },
         "xaxis": "x",
         "yaxis": "y"
        }
       ],
       "layout": {
        "barmode": "overlay",
        "legend": {
         "title": {
          "text": "Theme"
         },
         "tracegroupgap": 0
        },
        "template": {
         "data": {
          "bar": [
           {
            "error_x": {
             "color": "#2a3f5f"
            },
            "error_y": {
             "color": "#2a3f5f"
            },
            "marker": {
             "line": {
              "color": "#E5ECF6",
              "width": 0.5
             },
             "pattern": {
              "fillmode": "overlay",
              "size": 10,
              "solidity": 0.2
             }
            },
            "type": "bar"
           }
          ],
          "barpolar": [
           {
            "marker": {
             "line": {
              "color": "#E5ECF6",
              "width": 0.5
             },
             "pattern": {
              "fillmode": "overlay",
              "size": 10,
              "solidity": 0.2
             }
            },
            "type": "barpolar"
           }
          ],
          "carpet": [
           {
            "aaxis": {
             "endlinecolor": "#2a3f5f",
             "gridcolor": "white",
             "linecolor": "white",
             "minorgridcolor": "white",
             "startlinecolor": "#2a3f5f"
            },
            "baxis": {
             "endlinecolor": "#2a3f5f",
             "gridcolor": "white",
             "linecolor": "white",
             "minorgridcolor": "white",
             "startlinecolor": "#2a3f5f"
            },
            "type": "carpet"
           }
          ],
          "choropleth": [
           {
            "colorbar": {
             "outlinewidth": 0,
             "ticks": ""
            },
            "type": "choropleth"
           }
          ],
          "contour": [
           {
            "colorbar": {
             "outlinewidth": 0,
             "ticks": ""
            },
            "colorscale": [
             [
              0,
              "#0d0887"
             ],
             [
              0.1111111111111111,
              "#46039f"
             ],
             [
              0.2222222222222222,
              "#7201a8"
             ],
             [
              0.3333333333333333,
              "#9c179e"
             ],
             [
              0.4444444444444444,
              "#bd3786"
             ],
             [
              0.5555555555555556,
              "#d8576b"
             ],
             [
              0.6666666666666666,
              "#ed7953"
             ],
             [
              0.7777777777777778,
              "#fb9f3a"
             ],
             [
              0.8888888888888888,
              "#fdca26"
             ],
             [
              1,
              "#f0f921"
             ]
            ],
            "type": "contour"
           }
          ],
          "contourcarpet": [
           {
            "colorbar": {
             "outlinewidth": 0,
             "ticks": ""
            },
            "type": "contourcarpet"
           }
          ],
          "heatmap": [
           {
            "colorbar": {
             "outlinewidth": 0,
             "ticks": ""
            },
            "colorscale": [
             [
              0,
              "#0d0887"
             ],
             [
              0.1111111111111111,
              "#46039f"
             ],
             [
              0.2222222222222222,
              "#7201a8"
             ],
             [
              0.3333333333333333,
              "#9c179e"
             ],
             [
              0.4444444444444444,
              "#bd3786"
             ],
             [
              0.5555555555555556,
              "#d8576b"
             ],
             [
              0.6666666666666666,
              "#ed7953"
             ],
             [
              0.7777777777777778,
              "#fb9f3a"
             ],
             [
              0.8888888888888888,
              "#fdca26"
             ],
             [
              1,
              "#f0f921"
             ]
            ],
            "type": "heatmap"
           }
          ],
          "histogram": [
           {
            "marker": {
             "pattern": {
              "fillmode": "overlay",
              "size": 10,
              "solidity": 0.2
             }
            },
            "type": "histogram"
           }
          ],
          "histogram2d": [
           {
            "colorbar": {
             "outlinewidth": 0,
             "ticks": ""
            },
            "colorscale": [
             [
              0,
              "#0d0887"
             ],
             [
              0.1111111111111111,
              "#46039f"
             ],
             [
              0.2222222222222222,
              "#7201a8"
             ],
             [
              0.3333333333333333,
              "#9c179e"
             ],
             [
              0.4444444444444444,
              "#bd3786"
             ],
             [
              0.5555555555555556,
              "#d8576b"
             ],
             [
              0.6666666666666666,
              "#ed7953"
             ],
             [
              0.7777777777777778,
              "#fb9f3a"
             ],
             [
              0.8888888888888888,
              "#fdca26"
             ],
             [
              1,
              "#f0f921"
             ]
            ],
            "type": "histogram2d"
           }
          ],
          "histogram2dcontour": [
           {
            "colorbar": {
             "outlinewidth": 0,
             "ticks": ""
            },
            "colorscale": [
             [
              0,
              "#0d0887"
             ],
             [
              0.1111111111111111,
              "#46039f"
             ],
             [
              0.2222222222222222,
              "#7201a8"
             ],
             [
              0.3333333333333333,
              "#9c179e"
             ],
             [
              0.4444444444444444,
              "#bd3786"
             ],
             [
              0.5555555555555556,
              "#d8576b"
             ],
             [
              0.6666666666666666,
              "#ed7953"
             ],
             [
              0.7777777777777778,
              "#fb9f3a"
             ],
             [
              0.8888888888888888,
              "#fdca26"
             ],
             [
              1,
              "#f0f921"
             ]
            ],
            "type": "histogram2dcontour"
           }
          ],
          "mesh3d": [
           {
            "colorbar": {
             "outlinewidth": 0,
             "ticks": ""
            },
            "type": "mesh3d"
           }
          ],
          "parcoords": [
           {
            "line": {
             "colorbar": {
              "outlinewidth": 0,
              "ticks": ""
             }
            },
            "type": "parcoords"
           }
          ],
          "pie": [
           {
            "automargin": true,
            "type": "pie"
           }
          ],
          "scatter": [
           {
            "fillpattern": {
             "fillmode": "overlay",
             "size": 10,
             "solidity": 0.2
            },
            "type": "scatter"
           }
          ],
          "scatter3d": [
           {
            "line": {
             "colorbar": {
              "outlinewidth": 0,
              "ticks": ""
             }
            },
            "marker": {
             "colorbar": {
              "outlinewidth": 0,
              "ticks": ""
             }
            },
            "type": "scatter3d"
           }
          ],
          "scattercarpet": [
           {
            "marker": {
             "colorbar": {
              "outlinewidth": 0,
              "ticks": ""
             }
            },
            "type": "scattercarpet"
           }
          ],
          "scattergeo": [
           {
            "marker": {
             "colorbar": {
              "outlinewidth": 0,
              "ticks": ""
             }
            },
            "type": "scattergeo"
           }
          ],
          "scattergl": [
           {
            "marker": {
             "colorbar": {
              "outlinewidth": 0,
              "ticks": ""
             }
            },
            "type": "scattergl"
           }
          ],
          "scattermap": [
           {
            "marker": {
             "colorbar": {
              "outlinewidth": 0,
              "ticks": ""
             }
            },
            "type": "scattermap"
           }
          ],
          "scattermapbox": [
           {
            "marker": {
             "colorbar": {
              "outlinewidth": 0,
              "ticks": ""
             }
            },
            "type": "scattermapbox"
           }
          ],
          "scatterpolar": [
           {
            "marker": {
             "colorbar": {
              "outlinewidth": 0,
              "ticks": ""
             }
            },
            "type": "scatterpolar"
           }
          ],
          "scatterpolargl": [
           {
            "marker": {
             "colorbar": {
              "outlinewidth": 0,
              "ticks": ""
             }
            },
            "type": "scatterpolargl"
           }
          ],
          "scatterternary": [
           {
            "marker": {
             "colorbar": {
              "outlinewidth": 0,
              "ticks": ""
             }
            },
            "type": "scatterternary"
           }
          ],
          "surface": [
           {
            "colorbar": {
             "outlinewidth": 0,
             "ticks": ""
            },
            "colorscale": [
             [
              0,
              "#0d0887"
             ],
             [
              0.1111111111111111,
              "#46039f"
             ],
             [
              0.2222222222222222,
              "#7201a8"
             ],
             [
              0.3333333333333333,
              "#9c179e"
             ],
             [
              0.4444444444444444,
              "#bd3786"
             ],
             [
              0.5555555555555556,
              "#d8576b"
             ],
             [
              0.6666666666666666,
              "#ed7953"
             ],
             [
              0.7777777777777778,
              "#fb9f3a"
             ],
             [
              0.8888888888888888,
              "#fdca26"
             ],
             [
              1,
              "#f0f921"
             ]
            ],
            "type": "surface"
           }
          ],
          "table": [
           {
            "cells": {
             "fill": {
              "color": "#EBF0F8"
             },
             "line": {
              "color": "white"
             }
            },
            "header": {
             "fill": {
              "color": "#C8D4E3"
             },
             "line": {
              "color": "white"
             }
            },
            "type": "table"
           }
          ]
         },
         "layout": {
          "annotationdefaults": {
           "arrowcolor": "#2a3f5f",
           "arrowhead": 0,
           "arrowwidth": 1
          },
          "autotypenumbers": "strict",
          "coloraxis": {
           "colorbar": {
            "outlinewidth": 0,
            "ticks": ""
           }
          },
          "colorscale": {
           "diverging": [
            [
             0,
             "#8e0152"
            ],
            [
             0.1,
             "#c51b7d"
            ],
            [
             0.2,
             "#de77ae"
            ],
            [
             0.3,
             "#f1b6da"
            ],
            [
             0.4,
             "#fde0ef"
            ],
            [
             0.5,
             "#f7f7f7"
            ],
            [
             0.6,
             "#e6f5d0"
            ],
            [
             0.7,
             "#b8e186"
            ],
            [
             0.8,
             "#7fbc41"
            ],
            [
             0.9,
             "#4d9221"
            ],
            [
             1,
             "#276419"
            ]
           ],
           "sequential": [
            [
             0,
             "#0d0887"
            ],
            [
             0.1111111111111111,
             "#46039f"
            ],
            [
             0.2222222222222222,
             "#7201a8"
            ],
            [
             0.3333333333333333,
             "#9c179e"
            ],
            [
             0.4444444444444444,
             "#bd3786"
            ],
            [
             0.5555555555555556,
             "#d8576b"
            ],
            [
             0.6666666666666666,
             "#ed7953"
            ],
            [
             0.7777777777777778,
             "#fb9f3a"
            ],
            [
             0.8888888888888888,
             "#fdca26"
            ],
            [
             1,
             "#f0f921"
            ]
           ],
           "sequentialminus": [
            [
             0,
             "#0d0887"
            ],
            [
             0.1111111111111111,
             "#46039f"
            ],
            [
             0.2222222222222222,
             "#7201a8"
            ],
            [
             0.3333333333333333,
             "#9c179e"
            ],
            [
             0.4444444444444444,
             "#bd3786"
            ],
            [
             0.5555555555555556,
             "#d8576b"
            ],
            [
             0.6666666666666666,
             "#ed7953"
            ],
            [
             0.7777777777777778,
             "#fb9f3a"
            ],
            [
             0.8888888888888888,
             "#fdca26"
            ],
            [
             1,
             "#f0f921"
            ]
           ]
          },
          "colorway": [
           "#636efa",
           "#EF553B",
           "#00cc96",
           "#ab63fa",
           "#FFA15A",
           "#19d3f3",
           "#FF6692",
           "#B6E880",
           "#FF97FF",
           "#FECB52"
          ],
          "font": {
           "color": "#2a3f5f"
          },
          "geo": {
           "bgcolor": "white",
           "lakecolor": "white",
           "landcolor": "#E5ECF6",
           "showlakes": true,
           "showland": true,
           "subunitcolor": "white"
          },
          "hoverlabel": {
           "align": "left"
          },
          "hovermode": "closest",
          "mapbox": {
           "style": "light"
          },
          "paper_bgcolor": "white",
          "plot_bgcolor": "#E5ECF6",
          "polar": {
           "angularaxis": {
            "gridcolor": "white",
            "linecolor": "white",
            "ticks": ""
           },
           "bgcolor": "#E5ECF6",
           "radialaxis": {
            "gridcolor": "white",
            "linecolor": "white",
            "ticks": ""
           }
          },
          "scene": {
           "xaxis": {
            "backgroundcolor": "#E5ECF6",
            "gridcolor": "white",
            "gridwidth": 2,
            "linecolor": "white",
            "showbackground": true,
            "ticks": "",
            "zerolinecolor": "white"
           },
           "yaxis": {
            "backgroundcolor": "#E5ECF6",
            "gridcolor": "white",
            "gridwidth": 2,
            "linecolor": "white",
            "showbackground": true,
            "ticks": "",
            "zerolinecolor": "white"
           },
           "zaxis": {
            "backgroundcolor": "#E5ECF6",
            "gridcolor": "white",
            "gridwidth": 2,
            "linecolor": "white",
            "showbackground": true,
            "ticks": "",
            "zerolinecolor": "white"
           }
          },
          "shapedefaults": {
           "line": {
            "color": "#2a3f5f"
           }
          },
          "ternary": {
           "aaxis": {
            "gridcolor": "white",
            "linecolor": "white",
            "ticks": ""
           },
           "baxis": {
            "gridcolor": "white",
            "linecolor": "white",
            "ticks": ""
           },
           "bgcolor": "#E5ECF6",
           "caxis": {
            "gridcolor": "white",
            "linecolor": "white",
            "ticks": ""
           }
          },
          "title": {
           "x": 0.05
          },
          "xaxis": {
           "automargin": true,
           "gridcolor": "white",
           "linecolor": "white",
           "ticks": "",
           "title": {
            "standoff": 15
           },
           "zerolinecolor": "white",
           "zerolinewidth": 2
          },
          "yaxis": {
           "automargin": true,
           "gridcolor": "white",
           "linecolor": "white",
           "ticks": "",
           "title": {
            "standoff": 15
           },
           "zerolinecolor": "white",
           "zerolinewidth": 2
          }
         }
        },
        "title": {
         "text": "Histogram of Click Through Rate by Theme"
        },
        "xaxis": {
         "anchor": "y",
         "domain": [
          0,
          1
         ],
         "title": {
          "text": "Click Through Rate"
         }
        },
        "yaxis": {
         "anchor": "x",
         "domain": [
          0,
          1
         ],
         "title": {
          "text": "count"
         }
        }
       }
      }
     },
     "metadata": {},
     "output_type": "display_data"
    }
   ],
   "source": [
    "# Histogram for Click Through Rate (CTR) by Theme\n",
    "fig_ctr_hist = px.histogram(df, x='Click Through Rate', color='Theme',\n",
    "                            barmode='overlay',\n",
    "                            title='Histogram of Click Through Rate by Theme',\n",
    "                            nbins=30,\n",
    "                            opacity=0.7)\n",
    "fig_ctr_hist.show()"
   ]
  },
  {
   "cell_type": "code",
   "execution_count": 12,
   "id": "780dbc1e",
   "metadata": {},
   "outputs": [
    {
     "data": {
      "application/vnd.plotly.v1+json": {
       "config": {
        "plotlyServerURL": "https://plot.ly"
       },
       "data": [
        {
         "name": "Light Theme",
         "nbinsx": 20,
         "opacity": 0.6,
         "type": "histogram",
         "x": {
          "bdata": "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",
          "dtype": "f8"
         }
        },
        {
         "name": "Dark Theme",
         "nbinsx": 20,
         "opacity": 0.6,
         "type": "histogram",
         "x": {
          "bdata": "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",
          "dtype": "f8"
         }
        }
       ],
       "layout": {
        "bargap": 0.1,
        "barmode": "group",
        "template": {
         "data": {
          "bar": [
           {
            "error_x": {
             "color": "#2a3f5f"
            },
            "error_y": {
             "color": "#2a3f5f"
            },
            "marker": {
             "line": {
              "color": "#E5ECF6",
              "width": 0.5
             },
             "pattern": {
              "fillmode": "overlay",
              "size": 10,
              "solidity": 0.2
             }
            },
            "type": "bar"
           }
          ],
          "barpolar": [
           {
            "marker": {
             "line": {
              "color": "#E5ECF6",
              "width": 0.5
             },
             "pattern": {
              "fillmode": "overlay",
              "size": 10,
              "solidity": 0.2
             }
            },
            "type": "barpolar"
           }
          ],
          "carpet": [
           {
            "aaxis": {
             "endlinecolor": "#2a3f5f",
             "gridcolor": "white",
             "linecolor": "white",
             "minorgridcolor": "white",
             "startlinecolor": "#2a3f5f"
            },
            "baxis": {
             "endlinecolor": "#2a3f5f",
             "gridcolor": "white",
             "linecolor": "white",
             "minorgridcolor": "white",
             "startlinecolor": "#2a3f5f"
            },
            "type": "carpet"
           }
          ],
          "choropleth": [
           {
            "colorbar": {
             "outlinewidth": 0,
             "ticks": ""
            },
            "type": "choropleth"
           }
          ],
          "contour": [
           {
            "colorbar": {
             "outlinewidth": 0,
             "ticks": ""
            },
            "colorscale": [
             [
              0,
              "#0d0887"
             ],
             [
              0.1111111111111111,
              "#46039f"
             ],
             [
              0.2222222222222222,
              "#7201a8"
             ],
             [
              0.3333333333333333,
              "#9c179e"
             ],
             [
              0.4444444444444444,
              "#bd3786"
             ],
             [
              0.5555555555555556,
              "#d8576b"
             ],
             [
              0.6666666666666666,
              "#ed7953"
             ],
             [
              0.7777777777777778,
              "#fb9f3a"
             ],
             [
              0.8888888888888888,
              "#fdca26"
             ],
             [
              1,
              "#f0f921"
             ]
            ],
            "type": "contour"
           }
          ],
          "contourcarpet": [
           {
            "colorbar": {
             "outlinewidth": 0,
             "ticks": ""
            },
            "type": "contourcarpet"
           }
          ],
          "heatmap": [
           {
            "colorbar": {
             "outlinewidth": 0,
             "ticks": ""
            },
            "colorscale": [
             [
              0,
              "#0d0887"
             ],
             [
              0.1111111111111111,
              "#46039f"
             ],
             [
              0.2222222222222222,
              "#7201a8"
             ],
             [
              0.3333333333333333,
              "#9c179e"
             ],
             [
              0.4444444444444444,
              "#bd3786"
             ],
             [
              0.5555555555555556,
              "#d8576b"
             ],
             [
              0.6666666666666666,
              "#ed7953"
             ],
             [
              0.7777777777777778,
              "#fb9f3a"
             ],
             [
              0.8888888888888888,
              "#fdca26"
             ],
             [
              1,
              "#f0f921"
             ]
            ],
            "type": "heatmap"
           }
          ],
          "histogram": [
           {
            "marker": {
             "pattern": {
              "fillmode": "overlay",
              "size": 10,
              "solidity": 0.2
             }
            },
            "type": "histogram"
           }
          ],
          "histogram2d": [
           {
            "colorbar": {
             "outlinewidth": 0,
             "ticks": ""
            },
            "colorscale": [
             [
              0,
              "#0d0887"
             ],
             [
              0.1111111111111111,
              "#46039f"
             ],
             [
              0.2222222222222222,
              "#7201a8"
             ],
             [
              0.3333333333333333,
              "#9c179e"
             ],
             [
              0.4444444444444444,
              "#bd3786"
             ],
             [
              0.5555555555555556,
              "#d8576b"
             ],
             [
              0.6666666666666666,
              "#ed7953"
             ],
             [
              0.7777777777777778,
              "#fb9f3a"
             ],
             [
              0.8888888888888888,
              "#fdca26"
             ],
             [
              1,
              "#f0f921"
             ]
            ],
            "type": "histogram2d"
           }
          ],
          "histogram2dcontour": [
           {
            "colorbar": {
             "outlinewidth": 0,
             "ticks": ""
            },
            "colorscale": [
             [
              0,
              "#0d0887"
             ],
             [
              0.1111111111111111,
              "#46039f"
             ],
             [
              0.2222222222222222,
              "#7201a8"
             ],
             [
              0.3333333333333333,
              "#9c179e"
             ],
             [
              0.4444444444444444,
              "#bd3786"
             ],
             [
              0.5555555555555556,
              "#d8576b"
             ],
             [
              0.6666666666666666,
              "#ed7953"
             ],
             [
              0.7777777777777778,
              "#fb9f3a"
             ],
             [
              0.8888888888888888,
              "#fdca26"
             ],
             [
              1,
              "#f0f921"
             ]
            ],
            "type": "histogram2dcontour"
           }
          ],
          "mesh3d": [
           {
            "colorbar": {
             "outlinewidth": 0,
             "ticks": ""
            },
            "type": "mesh3d"
           }
          ],
          "parcoords": [
           {
            "line": {
             "colorbar": {
              "outlinewidth": 0,
              "ticks": ""
             }
            },
            "type": "parcoords"
           }
          ],
          "pie": [
           {
            "automargin": true,
            "type": "pie"
           }
          ],
          "scatter": [
           {
            "fillpattern": {
             "fillmode": "overlay",
             "size": 10,
             "solidity": 0.2
            },
            "type": "scatter"
           }
          ],
          "scatter3d": [
           {
            "line": {
             "colorbar": {
              "outlinewidth": 0,
              "ticks": ""
             }
            },
            "marker": {
             "colorbar": {
              "outlinewidth": 0,
              "ticks": ""
             }
            },
            "type": "scatter3d"
           }
          ],
          "scattercarpet": [
           {
            "marker": {
             "colorbar": {
              "outlinewidth": 0,
              "ticks": ""
             }
            },
            "type": "scattercarpet"
           }
          ],
          "scattergeo": [
           {
            "marker": {
             "colorbar": {
              "outlinewidth": 0,
              "ticks": ""
             }
            },
            "type": "scattergeo"
           }
          ],
          "scattergl": [
           {
            "marker": {
             "colorbar": {
              "outlinewidth": 0,
              "ticks": ""
             }
            },
            "type": "scattergl"
           }
          ],
          "scattermap": [
           {
            "marker": {
             "colorbar": {
              "outlinewidth": 0,
              "ticks": ""
             }
            },
            "type": "scattermap"
           }
          ],
          "scattermapbox": [
           {
            "marker": {
             "colorbar": {
              "outlinewidth": 0,
              "ticks": ""
             }
            },
            "type": "scattermapbox"
           }
          ],
          "scatterpolar": [
           {
            "marker": {
             "colorbar": {
              "outlinewidth": 0,
              "ticks": ""
             }
            },
            "type": "scatterpolar"
           }
          ],
          "scatterpolargl": [
           {
            "marker": {
             "colorbar": {
              "outlinewidth": 0,
              "ticks": ""
             }
            },
            "type": "scatterpolargl"
           }
          ],
          "scatterternary": [
           {
            "marker": {
             "colorbar": {
              "outlinewidth": 0,
              "ticks": ""
             }
            },
            "type": "scatterternary"
           }
          ],
          "surface": [
           {
            "colorbar": {
             "outlinewidth": 0,
             "ticks": ""
            },
            "colorscale": [
             [
              0,
              "#0d0887"
             ],
             [
              0.1111111111111111,
              "#46039f"
             ],
             [
              0.2222222222222222,
              "#7201a8"
             ],
             [
              0.3333333333333333,
              "#9c179e"
             ],
             [
              0.4444444444444444,
              "#bd3786"
             ],
             [
              0.5555555555555556,
              "#d8576b"
             ],
             [
              0.6666666666666666,
              "#ed7953"
             ],
             [
              0.7777777777777778,
              "#fb9f3a"
             ],
             [
              0.8888888888888888,
              "#fdca26"
             ],
             [
              1,
              "#f0f921"
             ]
            ],
            "type": "surface"
           }
          ],
          "table": [
           {
            "cells": {
             "fill": {
              "color": "#EBF0F8"
             },
             "line": {
              "color": "white"
             }
            },
            "header": {
             "fill": {
              "color": "#C8D4E3"
             },
             "line": {
              "color": "white"
             }
            },
            "type": "table"
           }
          ]
         },
         "layout": {
          "annotationdefaults": {
           "arrowcolor": "#2a3f5f",
           "arrowhead": 0,
           "arrowwidth": 1
          },
          "autotypenumbers": "strict",
          "coloraxis": {
           "colorbar": {
            "outlinewidth": 0,
            "ticks": ""
           }
          },
          "colorscale": {
           "diverging": [
            [
             0,
             "#8e0152"
            ],
            [
             0.1,
             "#c51b7d"
            ],
            [
             0.2,
             "#de77ae"
            ],
            [
             0.3,
             "#f1b6da"
            ],
            [
             0.4,
             "#fde0ef"
            ],
            [
             0.5,
             "#f7f7f7"
            ],
            [
             0.6,
             "#e6f5d0"
            ],
            [
             0.7,
             "#b8e186"
            ],
            [
             0.8,
             "#7fbc41"
            ],
            [
             0.9,
             "#4d9221"
            ],
            [
             1,
             "#276419"
            ]
           ],
           "sequential": [
            [
             0,
             "#0d0887"
            ],
            [
             0.1111111111111111,
             "#46039f"
            ],
            [
             0.2222222222222222,
             "#7201a8"
            ],
            [
             0.3333333333333333,
             "#9c179e"
            ],
            [
             0.4444444444444444,
             "#bd3786"
            ],
            [
             0.5555555555555556,
             "#d8576b"
            ],
            [
             0.6666666666666666,
             "#ed7953"
            ],
            [
             0.7777777777777778,
             "#fb9f3a"
            ],
            [
             0.8888888888888888,
             "#fdca26"
            ],
            [
             1,
             "#f0f921"
            ]
           ],
           "sequentialminus": [
            [
             0,
             "#0d0887"
            ],
            [
             0.1111111111111111,
             "#46039f"
            ],
            [
             0.2222222222222222,
             "#7201a8"
            ],
            [
             0.3333333333333333,
             "#9c179e"
            ],
            [
             0.4444444444444444,
             "#bd3786"
            ],
            [
             0.5555555555555556,
             "#d8576b"
            ],
            [
             0.6666666666666666,
             "#ed7953"
            ],
            [
             0.7777777777777778,
             "#fb9f3a"
            ],
            [
             0.8888888888888888,
             "#fdca26"
            ],
            [
             1,
             "#f0f921"
            ]
           ]
          },
          "colorway": [
           "#636efa",
           "#EF553B",
           "#00cc96",
           "#ab63fa",
           "#FFA15A",
           "#19d3f3",
           "#FF6692",
           "#B6E880",
           "#FF97FF",
           "#FECB52"
          ],
          "font": {
           "color": "#2a3f5f"
          },
          "geo": {
           "bgcolor": "white",
           "lakecolor": "white",
           "landcolor": "#E5ECF6",
           "showlakes": true,
           "showland": true,
           "subunitcolor": "white"
          },
          "hoverlabel": {
           "align": "left"
          },
          "hovermode": "closest",
          "mapbox": {
           "style": "light"
          },
          "paper_bgcolor": "white",
          "plot_bgcolor": "#E5ECF6",
          "polar": {
           "angularaxis": {
            "gridcolor": "white",
            "linecolor": "white",
            "ticks": ""
           },
           "bgcolor": "#E5ECF6",
           "radialaxis": {
            "gridcolor": "white",
            "linecolor": "white",
            "ticks": ""
           }
          },
          "scene": {
           "xaxis": {
            "backgroundcolor": "#E5ECF6",
            "gridcolor": "white",
            "gridwidth": 2,
            "linecolor": "white",
            "showbackground": true,
            "ticks": "",
            "zerolinecolor": "white"
           },
           "yaxis": {
            "backgroundcolor": "#E5ECF6",
            "gridcolor": "white",
            "gridwidth": 2,
            "linecolor": "white",
            "showbackground": true,
            "ticks": "",
            "zerolinecolor": "white"
           },
           "zaxis": {
            "backgroundcolor": "#E5ECF6",
            "gridcolor": "white",
            "gridwidth": 2,
            "linecolor": "white",
            "showbackground": true,
            "ticks": "",
            "zerolinecolor": "white"
           }
          },
          "shapedefaults": {
           "line": {
            "color": "#2a3f5f"
           }
          },
          "ternary": {
           "aaxis": {
            "gridcolor": "white",
            "linecolor": "white",
            "ticks": ""
           },
           "baxis": {
            "gridcolor": "white",
            "linecolor": "white",
            "ticks": ""
           },
           "bgcolor": "#E5ECF6",
           "caxis": {
            "gridcolor": "white",
            "linecolor": "white",
            "ticks": ""
           }
          },
          "title": {
           "x": 0.05
          },
          "xaxis": {
           "automargin": true,
           "gridcolor": "white",
           "linecolor": "white",
           "ticks": "",
           "title": {
            "standoff": 15
           },
           "zerolinecolor": "white",
           "zerolinewidth": 2
          },
          "yaxis": {
           "automargin": true,
           "gridcolor": "white",
           "linecolor": "white",
           "ticks": "",
           "title": {
            "standoff": 15
           },
           "zerolinecolor": "white",
           "zerolinewidth": 2
          }
         }
        },
        "title": {
         "text": "Conversion Rate by Theme"
        },
        "xaxis": {
         "title": {
          "text": "Conversion Rate"
         }
        },
        "yaxis": {
         "title": {
          "text": "Frequency"
         }
        }
       }
      }
     },
     "metadata": {},
     "output_type": "display_data"
    }
   ],
   "source": [
    "fig = go.Figure()\n",
    "\n",
    "fig.add_trace(go.Histogram(x=light_theme_data['Conversion Rate'], \n",
    "                           name='Light Theme', opacity=0.6, nbinsx=20))\n",
    "fig.add_trace(go.Histogram(x=dark_theme_data['Conversion Rate'], \n",
    "                           name='Dark Theme', opacity=0.6, nbinsx=20))\n",
    "\n",
    "fig.update_layout(\n",
    "    title_text='Conversion Rate by Theme',\n",
    "    xaxis_title_text='Conversion Rate',\n",
    "    yaxis_title_text='Frequency',\n",
    "    barmode='group',\n",
    "    bargap=0.1\n",
    ")\n",
    "\n",
    "fig.show()"
   ]
  },
  {
   "cell_type": "code",
   "execution_count": 13,
   "id": "80fffb10",
   "metadata": {},
   "outputs": [
    {
     "data": {
      "application/vnd.plotly.v1+json": {
       "config": {
        "plotlyServerURL": "https://plot.ly"
       },
       "data": [
        {
         "name": "Light Theme",
         "type": "box",
         "y": {
          "bdata": "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",
          "dtype": "f8"
         }
        },
        {
         "name": "Dark Theme",
         "type": "box",
         "y": {
          "bdata": "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",
          "dtype": "f8"
         }
        }
       ],
       "layout": {
        "template": {
         "data": {
          "bar": [
           {
            "error_x": {
             "color": "#2a3f5f"
            },
            "error_y": {
             "color": "#2a3f5f"
            },
            "marker": {
             "line": {
              "color": "#E5ECF6",
              "width": 0.5
             },
             "pattern": {
              "fillmode": "overlay",
              "size": 10,
              "solidity": 0.2
             }
            },
            "type": "bar"
           }
          ],
          "barpolar": [
           {
            "marker": {
             "line": {
              "color": "#E5ECF6",
              "width": 0.5
             },
             "pattern": {
              "fillmode": "overlay",
              "size": 10,
              "solidity": 0.2
             }
            },
            "type": "barpolar"
           }
          ],
          "carpet": [
           {
            "aaxis": {
             "endlinecolor": "#2a3f5f",
             "gridcolor": "white",
             "linecolor": "white",
             "minorgridcolor": "white",
             "startlinecolor": "#2a3f5f"
            },
            "baxis": {
             "endlinecolor": "#2a3f5f",
             "gridcolor": "white",
             "linecolor": "white",
             "minorgridcolor": "white",
             "startlinecolor": "#2a3f5f"
            },
            "type": "carpet"
           }
          ],
          "choropleth": [
           {
            "colorbar": {
             "outlinewidth": 0,
             "ticks": ""
            },
            "type": "choropleth"
           }
          ],
          "contour": [
           {
            "colorbar": {
             "outlinewidth": 0,
             "ticks": ""
            },
            "colorscale": [
             [
              0,
              "#0d0887"
             ],
             [
              0.1111111111111111,
              "#46039f"
             ],
             [
              0.2222222222222222,
              "#7201a8"
             ],
             [
              0.3333333333333333,
              "#9c179e"
             ],
             [
              0.4444444444444444,
              "#bd3786"
             ],
             [
              0.5555555555555556,
              "#d8576b"
             ],
             [
              0.6666666666666666,
              "#ed7953"
             ],
             [
              0.7777777777777778,
              "#fb9f3a"
             ],
             [
              0.8888888888888888,
              "#fdca26"
             ],
             [
              1,
              "#f0f921"
             ]
            ],
            "type": "contour"
           }
          ],
          "contourcarpet": [
           {
            "colorbar": {
             "outlinewidth": 0,
             "ticks": ""
            },
            "type": "contourcarpet"
           }
          ],
          "heatmap": [
           {
            "colorbar": {
             "outlinewidth": 0,
             "ticks": ""
            },
            "colorscale": [
             [
              0,
              "#0d0887"
             ],
             [
              0.1111111111111111,
              "#46039f"
             ],
             [
              0.2222222222222222,
              "#7201a8"
             ],
             [
              0.3333333333333333,
              "#9c179e"
             ],
             [
              0.4444444444444444,
              "#bd3786"
             ],
             [
              0.5555555555555556,
              "#d8576b"
             ],
             [
              0.6666666666666666,
              "#ed7953"
             ],
             [
              0.7777777777777778,
              "#fb9f3a"
             ],
             [
              0.8888888888888888,
              "#fdca26"
             ],
             [
              1,
              "#f0f921"
             ]
            ],
            "type": "heatmap"
           }
          ],
          "histogram": [
           {
            "marker": {
             "pattern": {
              "fillmode": "overlay",
              "size": 10,
              "solidity": 0.2
             }
            },
            "type": "histogram"
           }
          ],
          "histogram2d": [
           {
            "colorbar": {
             "outlinewidth": 0,
             "ticks": ""
            },
            "colorscale": [
             [
              0,
              "#0d0887"
             ],
             [
              0.1111111111111111,
              "#46039f"
             ],
             [
              0.2222222222222222,
              "#7201a8"
             ],
             [
              0.3333333333333333,
              "#9c179e"
             ],
             [
              0.4444444444444444,
              "#bd3786"
             ],
             [
              0.5555555555555556,
              "#d8576b"
             ],
             [
              0.6666666666666666,
              "#ed7953"
             ],
             [
              0.7777777777777778,
              "#fb9f3a"
             ],
             [
              0.8888888888888888,
              "#fdca26"
             ],
             [
              1,
              "#f0f921"
             ]
            ],
            "type": "histogram2d"
           }
          ],
          "histogram2dcontour": [
           {
            "colorbar": {
             "outlinewidth": 0,
             "ticks": ""
            },
            "colorscale": [
             [
              0,
              "#0d0887"
             ],
             [
              0.1111111111111111,
              "#46039f"
             ],
             [
              0.2222222222222222,
              "#7201a8"
             ],
             [
              0.3333333333333333,
              "#9c179e"
             ],
             [
              0.4444444444444444,
              "#bd3786"
             ],
             [
              0.5555555555555556,
              "#d8576b"
             ],
             [
              0.6666666666666666,
              "#ed7953"
             ],
             [
              0.7777777777777778,
              "#fb9f3a"
             ],
             [
              0.8888888888888888,
              "#fdca26"
             ],
             [
              1,
              "#f0f921"
             ]
            ],
            "type": "histogram2dcontour"
           }
          ],
          "mesh3d": [
           {
            "colorbar": {
             "outlinewidth": 0,
             "ticks": ""
            },
            "type": "mesh3d"
           }
          ],
          "parcoords": [
           {
            "line": {
             "colorbar": {
              "outlinewidth": 0,
              "ticks": ""
             }
            },
            "type": "parcoords"
           }
          ],
          "pie": [
           {
            "automargin": true,
            "type": "pie"
           }
          ],
          "scatter": [
           {
            "fillpattern": {
             "fillmode": "overlay",
             "size": 10,
             "solidity": 0.2
            },
            "type": "scatter"
           }
          ],
          "scatter3d": [
           {
            "line": {
             "colorbar": {
              "outlinewidth": 0,
              "ticks": ""
             }
            },
            "marker": {
             "colorbar": {
              "outlinewidth": 0,
              "ticks": ""
             }
            },
            "type": "scatter3d"
           }
          ],
          "scattercarpet": [
           {
            "marker": {
             "colorbar": {
              "outlinewidth": 0,
              "ticks": ""
             }
            },
            "type": "scattercarpet"
           }
          ],
          "scattergeo": [
           {
            "marker": {
             "colorbar": {
              "outlinewidth": 0,
              "ticks": ""
             }
            },
            "type": "scattergeo"
           }
          ],
          "scattergl": [
           {
            "marker": {
             "colorbar": {
              "outlinewidth": 0,
              "ticks": ""
             }
            },
            "type": "scattergl"
           }
          ],
          "scattermap": [
           {
            "marker": {
             "colorbar": {
              "outlinewidth": 0,
              "ticks": ""
             }
            },
            "type": "scattermap"
           }
          ],
          "scattermapbox": [
           {
            "marker": {
             "colorbar": {
              "outlinewidth": 0,
              "ticks": ""
             }
            },
            "type": "scattermapbox"
           }
          ],
          "scatterpolar": [
           {
            "marker": {
             "colorbar": {
              "outlinewidth": 0,
              "ticks": ""
             }
            },
            "type": "scatterpolar"
           }
          ],
          "scatterpolargl": [
           {
            "marker": {
             "colorbar": {
              "outlinewidth": 0,
              "ticks": ""
             }
            },
            "type": "scatterpolargl"
           }
          ],
          "scatterternary": [
           {
            "marker": {
             "colorbar": {
              "outlinewidth": 0,
              "ticks": ""
             }
            },
            "type": "scatterternary"
           }
          ],
          "surface": [
           {
            "colorbar": {
             "outlinewidth": 0,
             "ticks": ""
            },
            "colorscale": [
             [
              0,
              "#0d0887"
             ],
             [
              0.1111111111111111,
              "#46039f"
             ],
             [
              0.2222222222222222,
              "#7201a8"
             ],
             [
              0.3333333333333333,
              "#9c179e"
             ],
             [
              0.4444444444444444,
              "#bd3786"
             ],
             [
              0.5555555555555556,
              "#d8576b"
             ],
             [
              0.6666666666666666,
              "#ed7953"
             ],
             [
              0.7777777777777778,
              "#fb9f3a"
             ],
             [
              0.8888888888888888,
              "#fdca26"
             ],
             [
              1,
              "#f0f921"
             ]
            ],
            "type": "surface"
           }
          ],
          "table": [
           {
            "cells": {
             "fill": {
              "color": "#EBF0F8"
             },
             "line": {
              "color": "white"
             }
            },
            "header": {
             "fill": {
              "color": "#C8D4E3"
             },
             "line": {
              "color": "white"
             }
            },
            "type": "table"
           }
          ]
         },
         "layout": {
          "annotationdefaults": {
           "arrowcolor": "#2a3f5f",
           "arrowhead": 0,
           "arrowwidth": 1
          },
          "autotypenumbers": "strict",
          "coloraxis": {
           "colorbar": {
            "outlinewidth": 0,
            "ticks": ""
           }
          },
          "colorscale": {
           "diverging": [
            [
             0,
             "#8e0152"
            ],
            [
             0.1,
             "#c51b7d"
            ],
            [
             0.2,
             "#de77ae"
            ],
            [
             0.3,
             "#f1b6da"
            ],
            [
             0.4,
             "#fde0ef"
            ],
            [
             0.5,
             "#f7f7f7"
            ],
            [
             0.6,
             "#e6f5d0"
            ],
            [
             0.7,
             "#b8e186"
            ],
            [
             0.8,
             "#7fbc41"
            ],
            [
             0.9,
             "#4d9221"
            ],
            [
             1,
             "#276419"
            ]
           ],
           "sequential": [
            [
             0,
             "#0d0887"
            ],
            [
             0.1111111111111111,
             "#46039f"
            ],
            [
             0.2222222222222222,
             "#7201a8"
            ],
            [
             0.3333333333333333,
             "#9c179e"
            ],
            [
             0.4444444444444444,
             "#bd3786"
            ],
            [
             0.5555555555555556,
             "#d8576b"
            ],
            [
             0.6666666666666666,
             "#ed7953"
            ],
            [
             0.7777777777777778,
             "#fb9f3a"
            ],
            [
             0.8888888888888888,
             "#fdca26"
            ],
            [
             1,
             "#f0f921"
            ]
           ],
           "sequentialminus": [
            [
             0,
             "#0d0887"
            ],
            [
             0.1111111111111111,
             "#46039f"
            ],
            [
             0.2222222222222222,
             "#7201a8"
            ],
            [
             0.3333333333333333,
             "#9c179e"
            ],
            [
             0.4444444444444444,
             "#bd3786"
            ],
            [
             0.5555555555555556,
             "#d8576b"
            ],
            [
             0.6666666666666666,
             "#ed7953"
            ],
            [
             0.7777777777777778,
             "#fb9f3a"
            ],
            [
             0.8888888888888888,
             "#fdca26"
            ],
            [
             1,
             "#f0f921"
            ]
           ]
          },
          "colorway": [
           "#636efa",
           "#EF553B",
           "#00cc96",
           "#ab63fa",
           "#FFA15A",
           "#19d3f3",
           "#FF6692",
           "#B6E880",
           "#FF97FF",
           "#FECB52"
          ],
          "font": {
           "color": "#2a3f5f"
          },
          "geo": {
           "bgcolor": "white",
           "lakecolor": "white",
           "landcolor": "#E5ECF6",
           "showlakes": true,
           "showland": true,
           "subunitcolor": "white"
          },
          "hoverlabel": {
           "align": "left"
          },
          "hovermode": "closest",
          "mapbox": {
           "style": "light"
          },
          "paper_bgcolor": "white",
          "plot_bgcolor": "#E5ECF6",
          "polar": {
           "angularaxis": {
            "gridcolor": "white",
            "linecolor": "white",
            "ticks": ""
           },
           "bgcolor": "#E5ECF6",
           "radialaxis": {
            "gridcolor": "white",
            "linecolor": "white",
            "ticks": ""
           }
          },
          "scene": {
           "xaxis": {
            "backgroundcolor": "#E5ECF6",
            "gridcolor": "white",
            "gridwidth": 2,
            "linecolor": "white",
            "showbackground": true,
            "ticks": "",
            "zerolinecolor": "white"
           },
           "yaxis": {
            "backgroundcolor": "#E5ECF6",
            "gridcolor": "white",
            "gridwidth": 2,
            "linecolor": "white",
            "showbackground": true,
            "ticks": "",
            "zerolinecolor": "white"
           },
           "zaxis": {
            "backgroundcolor": "#E5ECF6",
            "gridcolor": "white",
            "gridwidth": 2,
            "linecolor": "white",
            "showbackground": true,
            "ticks": "",
            "zerolinecolor": "white"
           }
          },
          "shapedefaults": {
           "line": {
            "color": "#2a3f5f"
           }
          },
          "ternary": {
           "aaxis": {
            "gridcolor": "white",
            "linecolor": "white",
            "ticks": ""
           },
           "baxis": {
            "gridcolor": "white",
            "linecolor": "white",
            "ticks": ""
           },
           "bgcolor": "#E5ECF6",
           "caxis": {
            "gridcolor": "white",
            "linecolor": "white",
            "ticks": ""
           }
          },
          "title": {
           "x": 0.05
          },
          "xaxis": {
           "automargin": true,
           "gridcolor": "white",
           "linecolor": "white",
           "ticks": "",
           "title": {
            "standoff": 15
           },
           "zerolinecolor": "white",
           "zerolinewidth": 2
          },
          "yaxis": {
           "automargin": true,
           "gridcolor": "white",
           "linecolor": "white",
           "ticks": "",
           "title": {
            "standoff": 15
           },
           "zerolinecolor": "white",
           "zerolinewidth": 2
          }
         }
        },
        "title": {
         "text": "Bounce Rate by Theme"
        },
        "yaxis": {
         "title": {
          "text": "Bounce Rate"
         }
        }
       }
      }
     },
     "metadata": {},
     "output_type": "display_data"
    }
   ],
   "source": [
    "fig = go.Figure()\n",
    "fig.add_trace(go.Box(y=light_theme_data['Bounce Rate'], \n",
    "                     name='Light Theme'))\n",
    "fig.add_trace(go.Box(y=dark_theme_data['Bounce Rate'], \n",
    "                     name='Dark Theme'))\n",
    "\n",
    "fig.update_layout(\n",
    "    title_text='Bounce Rate by Theme',\n",
    "    yaxis_title_text='Bounce Rate',\n",
    ")\n",
    "\n",
    "fig.show()"
   ]
  },
  {
   "cell_type": "code",
   "execution_count": 14,
   "id": "4525676d",
   "metadata": {},
   "outputs": [
    {
     "data": {
      "application/vnd.plotly.v1+json": {
       "config": {
        "plotlyServerURL": "https://plot.ly"
       },
       "data": [
        {
         "name": "Light Theme",
         "type": "box",
         "y": {
          "bdata": "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",
          "dtype": "f8"
         }
        },
        {
         "name": "Dark Theme",
         "type": "box",
         "y": {
          "bdata": "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",
          "dtype": "f8"
         }
        }
       ],
       "layout": {
        "template": {
         "data": {
          "bar": [
           {
            "error_x": {
             "color": "#2a3f5f"
            },
            "error_y": {
             "color": "#2a3f5f"
            },
            "marker": {
             "line": {
              "color": "#E5ECF6",
              "width": 0.5
             },
             "pattern": {
              "fillmode": "overlay",
              "size": 10,
              "solidity": 0.2
             }
            },
            "type": "bar"
           }
          ],
          "barpolar": [
           {
            "marker": {
             "line": {
              "color": "#E5ECF6",
              "width": 0.5
             },
             "pattern": {
              "fillmode": "overlay",
              "size": 10,
              "solidity": 0.2
             }
            },
            "type": "barpolar"
           }
          ],
          "carpet": [
           {
            "aaxis": {
             "endlinecolor": "#2a3f5f",
             "gridcolor": "white",
             "linecolor": "white",
             "minorgridcolor": "white",
             "startlinecolor": "#2a3f5f"
            },
            "baxis": {
             "endlinecolor": "#2a3f5f",
             "gridcolor": "white",
             "linecolor": "white",
             "minorgridcolor": "white",
             "startlinecolor": "#2a3f5f"
            },
            "type": "carpet"
           }
          ],
          "choropleth": [
           {
            "colorbar": {
             "outlinewidth": 0,
             "ticks": ""
            },
            "type": "choropleth"
           }
          ],
          "contour": [
           {
            "colorbar": {
             "outlinewidth": 0,
             "ticks": ""
            },
            "colorscale": [
             [
              0,
              "#0d0887"
             ],
             [
              0.1111111111111111,
              "#46039f"
             ],
             [
              0.2222222222222222,
              "#7201a8"
             ],
             [
              0.3333333333333333,
              "#9c179e"
             ],
             [
              0.4444444444444444,
              "#bd3786"
             ],
             [
              0.5555555555555556,
              "#d8576b"
             ],
             [
              0.6666666666666666,
              "#ed7953"
             ],
             [
              0.7777777777777778,
              "#fb9f3a"
             ],
             [
              0.8888888888888888,
              "#fdca26"
             ],
             [
              1,
              "#f0f921"
             ]
            ],
            "type": "contour"
           }
          ],
          "contourcarpet": [
           {
            "colorbar": {
             "outlinewidth": 0,
             "ticks": ""
            },
            "type": "contourcarpet"
           }
          ],
          "heatmap": [
           {
            "colorbar": {
             "outlinewidth": 0,
             "ticks": ""
            },
            "colorscale": [
             [
              0,
              "#0d0887"
             ],
             [
              0.1111111111111111,
              "#46039f"
             ],
             [
              0.2222222222222222,
              "#7201a8"
             ],
             [
              0.3333333333333333,
              "#9c179e"
             ],
             [
              0.4444444444444444,
              "#bd3786"
             ],
             [
              0.5555555555555556,
              "#d8576b"
             ],
             [
              0.6666666666666666,
              "#ed7953"
             ],
             [
              0.7777777777777778,
              "#fb9f3a"
             ],
             [
              0.8888888888888888,
              "#fdca26"
             ],
             [
              1,
              "#f0f921"
             ]
            ],
            "type": "heatmap"
           }
          ],
          "histogram": [
           {
            "marker": {
             "pattern": {
              "fillmode": "overlay",
              "size": 10,
              "solidity": 0.2
             }
            },
            "type": "histogram"
           }
          ],
          "histogram2d": [
           {
            "colorbar": {
             "outlinewidth": 0,
             "ticks": ""
            },
            "colorscale": [
             [
              0,
              "#0d0887"
             ],
             [
              0.1111111111111111,
              "#46039f"
             ],
             [
              0.2222222222222222,
              "#7201a8"
             ],
             [
              0.3333333333333333,
              "#9c179e"
             ],
             [
              0.4444444444444444,
              "#bd3786"
             ],
             [
              0.5555555555555556,
              "#d8576b"
             ],
             [
              0.6666666666666666,
              "#ed7953"
             ],
             [
              0.7777777777777778,
              "#fb9f3a"
             ],
             [
              0.8888888888888888,
              "#fdca26"
             ],
             [
              1,
              "#f0f921"
             ]
            ],
            "type": "histogram2d"
           }
          ],
          "histogram2dcontour": [
           {
            "colorbar": {
             "outlinewidth": 0,
             "ticks": ""
            },
            "colorscale": [
             [
              0,
              "#0d0887"
             ],
             [
              0.1111111111111111,
              "#46039f"
             ],
             [
              0.2222222222222222,
              "#7201a8"
             ],
             [
              0.3333333333333333,
              "#9c179e"
             ],
             [
              0.4444444444444444,
              "#bd3786"
             ],
             [
              0.5555555555555556,
              "#d8576b"
             ],
             [
              0.6666666666666666,
              "#ed7953"
             ],
             [
              0.7777777777777778,
              "#fb9f3a"
             ],
             [
              0.8888888888888888,
              "#fdca26"
             ],
             [
              1,
              "#f0f921"
             ]
            ],
            "type": "histogram2dcontour"
           }
          ],
          "mesh3d": [
           {
            "colorbar": {
             "outlinewidth": 0,
             "ticks": ""
            },
            "type": "mesh3d"
           }
          ],
          "parcoords": [
           {
            "line": {
             "colorbar": {
              "outlinewidth": 0,
              "ticks": ""
             }
            },
            "type": "parcoords"
           }
          ],
          "pie": [
           {
            "automargin": true,
            "type": "pie"
           }
          ],
          "scatter": [
           {
            "fillpattern": {
             "fillmode": "overlay",
             "size": 10,
             "solidity": 0.2
            },
            "type": "scatter"
           }
          ],
          "scatter3d": [
           {
            "line": {
             "colorbar": {
              "outlinewidth": 0,
              "ticks": ""
             }
            },
            "marker": {
             "colorbar": {
              "outlinewidth": 0,
              "ticks": ""
             }
            },
            "type": "scatter3d"
           }
          ],
          "scattercarpet": [
           {
            "marker": {
             "colorbar": {
              "outlinewidth": 0,
              "ticks": ""
             }
            },
            "type": "scattercarpet"
           }
          ],
          "scattergeo": [
           {
            "marker": {
             "colorbar": {
              "outlinewidth": 0,
              "ticks": ""
             }
            },
            "type": "scattergeo"
           }
          ],
          "scattergl": [
           {
            "marker": {
             "colorbar": {
              "outlinewidth": 0,
              "ticks": ""
             }
            },
            "type": "scattergl"
           }
          ],
          "scattermap": [
           {
            "marker": {
             "colorbar": {
              "outlinewidth": 0,
              "ticks": ""
             }
            },
            "type": "scattermap"
           }
          ],
          "scattermapbox": [
           {
            "marker": {
             "colorbar": {
              "outlinewidth": 0,
              "ticks": ""
             }
            },
            "type": "scattermapbox"
           }
          ],
          "scatterpolar": [
           {
            "marker": {
             "colorbar": {
              "outlinewidth": 0,
              "ticks": ""
             }
            },
            "type": "scatterpolar"
           }
          ],
          "scatterpolargl": [
           {
            "marker": {
             "colorbar": {
              "outlinewidth": 0,
              "ticks": ""
             }
            },
            "type": "scatterpolargl"
           }
          ],
          "scatterternary": [
           {
            "marker": {
             "colorbar": {
              "outlinewidth": 0,
              "ticks": ""
             }
            },
            "type": "scatterternary"
           }
          ],
          "surface": [
           {
            "colorbar": {
             "outlinewidth": 0,
             "ticks": ""
            },
            "colorscale": [
             [
              0,
              "#0d0887"
             ],
             [
              0.1111111111111111,
              "#46039f"
             ],
             [
              0.2222222222222222,
              "#7201a8"
             ],
             [
              0.3333333333333333,
              "#9c179e"
             ],
             [
              0.4444444444444444,
              "#bd3786"
             ],
             [
              0.5555555555555556,
              "#d8576b"
             ],
             [
              0.6666666666666666,
              "#ed7953"
             ],
             [
              0.7777777777777778,
              "#fb9f3a"
             ],
             [
              0.8888888888888888,
              "#fdca26"
             ],
             [
              1,
              "#f0f921"
             ]
            ],
            "type": "surface"
           }
          ],
          "table": [
           {
            "cells": {
             "fill": {
              "color": "#EBF0F8"
             },
             "line": {
              "color": "white"
             }
            },
            "header": {
             "fill": {
              "color": "#C8D4E3"
             },
             "line": {
              "color": "white"
             }
            },
            "type": "table"
           }
          ]
         },
         "layout": {
          "annotationdefaults": {
           "arrowcolor": "#2a3f5f",
           "arrowhead": 0,
           "arrowwidth": 1
          },
          "autotypenumbers": "strict",
          "coloraxis": {
           "colorbar": {
            "outlinewidth": 0,
            "ticks": ""
           }
          },
          "colorscale": {
           "diverging": [
            [
             0,
             "#8e0152"
            ],
            [
             0.1,
             "#c51b7d"
            ],
            [
             0.2,
             "#de77ae"
            ],
            [
             0.3,
             "#f1b6da"
            ],
            [
             0.4,
             "#fde0ef"
            ],
            [
             0.5,
             "#f7f7f7"
            ],
            [
             0.6,
             "#e6f5d0"
            ],
            [
             0.7,
             "#b8e186"
            ],
            [
             0.8,
             "#7fbc41"
            ],
            [
             0.9,
             "#4d9221"
            ],
            [
             1,
             "#276419"
            ]
           ],
           "sequential": [
            [
             0,
             "#0d0887"
            ],
            [
             0.1111111111111111,
             "#46039f"
            ],
            [
             0.2222222222222222,
             "#7201a8"
            ],
            [
             0.3333333333333333,
             "#9c179e"
            ],
            [
             0.4444444444444444,
             "#bd3786"
            ],
            [
             0.5555555555555556,
             "#d8576b"
            ],
            [
             0.6666666666666666,
             "#ed7953"
            ],
            [
             0.7777777777777778,
             "#fb9f3a"
            ],
            [
             0.8888888888888888,
             "#fdca26"
            ],
            [
             1,
             "#f0f921"
            ]
           ],
           "sequentialminus": [
            [
             0,
             "#0d0887"
            ],
            [
             0.1111111111111111,
             "#46039f"
            ],
            [
             0.2222222222222222,
             "#7201a8"
            ],
            [
             0.3333333333333333,
             "#9c179e"
            ],
            [
             0.4444444444444444,
             "#bd3786"
            ],
            [
             0.5555555555555556,
             "#d8576b"
            ],
            [
             0.6666666666666666,
             "#ed7953"
            ],
            [
             0.7777777777777778,
             "#fb9f3a"
            ],
            [
             0.8888888888888888,
             "#fdca26"
            ],
            [
             1,
             "#f0f921"
            ]
           ]
          },
          "colorway": [
           "#636efa",
           "#EF553B",
           "#00cc96",
           "#ab63fa",
           "#FFA15A",
           "#19d3f3",
           "#FF6692",
           "#B6E880",
           "#FF97FF",
           "#FECB52"
          ],
          "font": {
           "color": "#2a3f5f"
          },
          "geo": {
           "bgcolor": "white",
           "lakecolor": "white",
           "landcolor": "#E5ECF6",
           "showlakes": true,
           "showland": true,
           "subunitcolor": "white"
          },
          "hoverlabel": {
           "align": "left"
          },
          "hovermode": "closest",
          "mapbox": {
           "style": "light"
          },
          "paper_bgcolor": "white",
          "plot_bgcolor": "#E5ECF6",
          "polar": {
           "angularaxis": {
            "gridcolor": "white",
            "linecolor": "white",
            "ticks": ""
           },
           "bgcolor": "#E5ECF6",
           "radialaxis": {
            "gridcolor": "white",
            "linecolor": "white",
            "ticks": ""
           }
          },
          "scene": {
           "xaxis": {
            "backgroundcolor": "#E5ECF6",
            "gridcolor": "white",
            "gridwidth": 2,
            "linecolor": "white",
            "showbackground": true,
            "ticks": "",
            "zerolinecolor": "white"
           },
           "yaxis": {
            "backgroundcolor": "#E5ECF6",
            "gridcolor": "white",
            "gridwidth": 2,
            "linecolor": "white",
            "showbackground": true,
            "ticks": "",
            "zerolinecolor": "white"
           },
           "zaxis": {
            "backgroundcolor": "#E5ECF6",
            "gridcolor": "white",
            "gridwidth": 2,
            "linecolor": "white",
            "showbackground": true,
            "ticks": "",
            "zerolinecolor": "white"
           }
          },
          "shapedefaults": {
           "line": {
            "color": "#2a3f5f"
           }
          },
          "ternary": {
           "aaxis": {
            "gridcolor": "white",
            "linecolor": "white",
            "ticks": ""
           },
           "baxis": {
            "gridcolor": "white",
            "linecolor": "white",
            "ticks": ""
           },
           "bgcolor": "#E5ECF6",
           "caxis": {
            "gridcolor": "white",
            "linecolor": "white",
            "ticks": ""
           }
          },
          "title": {
           "x": 0.05
          },
          "xaxis": {
           "automargin": true,
           "gridcolor": "white",
           "linecolor": "white",
           "ticks": "",
           "title": {
            "standoff": 15
           },
           "zerolinecolor": "white",
           "zerolinewidth": 2
          },
          "yaxis": {
           "automargin": true,
           "gridcolor": "white",
           "linecolor": "white",
           "ticks": "",
           "title": {
            "standoff": 15
           },
           "zerolinecolor": "white",
           "zerolinewidth": 2
          }
         }
        },
        "title": {
         "text": "Scroll Depth by Theme"
        },
        "yaxis": {
         "title": {
          "text": "Scroll Depth"
         }
        }
       }
      }
     },
     "metadata": {},
     "output_type": "display_data"
    }
   ],
   "source": [
    "fig = go.Figure()\n",
    "fig.add_trace(go.Box(y=light_theme_data['Scroll_Depth'], \n",
    "                     name='Light Theme'))\n",
    "fig.add_trace(go.Box(y=dark_theme_data['Scroll_Depth'], \n",
    "                     name='Dark Theme'))\n",
    "\n",
    "fig.update_layout(\n",
    "    title_text='Scroll Depth by Theme',\n",
    "    yaxis_title_text='Scroll Depth',\n",
    ")\n",
    "\n",
    "fig.show()"
   ]
  },
  {
   "cell_type": "code",
   "execution_count": 15,
   "id": "0ec0aec4",
   "metadata": {},
   "outputs": [
    {
     "name": "stdout",
     "output_type": "stream",
     "text": [
      "Light Theme Conversion Rate: 0.5308641975308642\n",
      "Dark Theme Conversion Rate: 0.5038910505836576\n",
      "A/B Testing - z-statistic: 0.8531246206222649  p-value: 0.39359019934127804\n"
     ]
    }
   ],
   "source": [
    "# A/B testing for Purchases\n",
    "light_theme_conversions = light_theme_data[light_theme_data['Purchases'] == 'Yes'].shape[0]\n",
    "light_theme_total = light_theme_data.shape[0]\n",
    "\n",
    "dark_theme_conversions = dark_theme_data[dark_theme_data['Purchases'] == 'Yes'].shape[0]\n",
    "dark_theme_total = dark_theme_data.shape[0]\n",
    "\n",
    "conversion_counts = [light_theme_conversions, dark_theme_conversions]\n",
    "sample_sizes = [light_theme_total, dark_theme_total]\n",
    "\n",
    "light_theme_conversion_rate = light_theme_conversions / light_theme_total\n",
    "dark_theme_conversion_rate = dark_theme_conversions / dark_theme_total\n",
    "\n",
    "# Perform two-sample proportion test\n",
    "zstat, pval = proportions_ztest(conversion_counts, sample_sizes)\n",
    "print(\"Light Theme Conversion Rate:\", light_theme_conversion_rate)\n",
    "print(\"Dark Theme Conversion Rate:\", dark_theme_conversion_rate)\n",
    "print(\"A/B Testing - z-statistic:\", zstat, \" p-value:\", pval)"
   ]
  },
  {
   "cell_type": "code",
   "execution_count": 16,
   "id": "50c32eab",
   "metadata": {},
   "outputs": [
    {
     "name": "stdout",
     "output_type": "stream",
     "text": [
      "Light Theme Average Session Duration: 930.8333333333334\n",
      "Dark Theme Average Session Duration: 919.4824902723735\n",
      "A/B Testing for Session Duration - t-statistic: 0.3528382474155483  p-value: 0.7242842138292167\n"
     ]
    }
   ],
   "source": [
    "light_theme_session_duration = light_theme_data['Session_Duration']\n",
    "dark_theme_session_duration = dark_theme_data['Session_Duration']\n",
    "\n",
    "# Calculate the average session duration for both themes\n",
    "light_theme_avg_duration = light_theme_session_duration.mean()\n",
    "dark_theme_avg_duration = dark_theme_session_duration.mean()\n",
    "\n",
    "# Print the average session duration for both themes\n",
    "print(\"Light Theme Average Session Duration:\", light_theme_avg_duration)\n",
    "print(\"Dark Theme Average Session Duration:\", dark_theme_avg_duration)\n",
    "\n",
    "# Perform two-sample t-test for session duration\n",
    "tstat, pval = stats.ttest_ind(light_theme_session_duration, dark_theme_session_duration)\n",
    "print(\"A/B Testing for Session Duration - t-statistic:\", tstat, \" p-value:\", pval)"
   ]
  },
  {
   "cell_type": "markdown",
   "id": "886344e3",
   "metadata": {},
   "source": [
    "A/B testing is a powerful and widely used technique to compare and evaluate marketing strategies, designs, layouts, or themes. The primary purpose of A/B testing is to make data-driven decisions that lead to improved user experiences, enhanced performance metrics, and ultimately better business outcomes."
   ]
  },
  {
   "cell_type": "markdown",
   "id": "7fa770ab",
   "metadata": {},
   "source": []
  }
 ],
 "metadata": {
  "kernelspec": {
   "display_name": ".venv",
   "language": "python",
   "name": "python3"
  },
  "language_info": {
   "codemirror_mode": {
    "name": "ipython",
    "version": 3
   },
   "file_extension": ".py",
   "mimetype": "text/x-python",
   "name": "python",
   "nbconvert_exporter": "python",
   "pygments_lexer": "ipython3",
   "version": "3.13.4"
  }
 },
 "nbformat": 4,
 "nbformat_minor": 5
}
