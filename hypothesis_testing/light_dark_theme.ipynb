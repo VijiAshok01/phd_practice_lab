{
 "cells": [
  {
   "cell_type": "markdown",
   "id": "68080bd9",
   "metadata": {},
   "source": [
    "### Light Theme vs Dark theme case study\n",
    "\n",
    "An online bookstore is looking to optimize its website design to improve user engagement and ultimately increase book purchases.  \n",
    "The website currently offers two themes for its users: “Light Theme” and “Dark Theme.”  \n",
    "The bookstore’s data science team wants to conduct an A/B testing experiment to determine which theme leads to better user engagement and higher conversion rates for book purchases.  \n",
    "\n",
    "The data collected by the bookstore contains user interactions and engagement metrics for both the Light Theme and Dark Theme.  \n",
    "The dataset includes the following key features:  \n",
    "\n",
    "- **Theme:** dark or light  \n",
    "- **Click Through Rate:** The proportion of the users who click on links or buttons on the website.  \n",
    "- **Conversion Rate:** The percentage of users who signed up on the platform after visiting for the first time.  \n",
    "- **Bounce Rate:** The percentage of users who leave the website without further interaction after visiting a single page.  \n",
    "- **Scroll Depth:** The depth to which users scroll through the website pages.  \n",
    "- **Age:** The age of the user.  \n",
    "- **Location:** The location of the user.  \n",
    "- **Session Duration:** The duration of the user’s session on the website.  \n",
    "- **Purchases:** Whether the user purchased the book (Yes/No).  \n",
    "- **Added_to_Cart:** Whether the user added books to the cart (Yes/No).  \n",
    "\n",
    "Your task is to identify which theme, Light Theme or Dark Theme, yields better user engagement, purchases and conversion rates.  \n",
    "You need to determine if there is a statistically significant difference in the key metrics between the two themes."
   ]
  },
  {
   "cell_type": "markdown",
   "id": "177a08a5",
   "metadata": {},
   "source": [
    "**Hypothesis Testing Process**\n",
    "\n",
    "1. **Gather Data:** Collect the necessary data required for the hypothesis test.\n",
    "2. **Define Hypotheses:**  \n",
    "    - **Null Hypothesis (H₀):** The default assumption (e.g., no difference between themes).\n",
    "    - **Alternative Hypothesis (H₁ or Ha):** What you want to prove (e.g., a difference exists).\n",
    "3. **Choose Significance Level (α):**  \n",
    "    - Common choices are 0.05 or 0.01.\n",
    "    - This is the probability of rejecting the null hypothesis when it is actually true.\n",
    "4. **Select Statistical Test:**  \n",
    "    - Use t-tests for comparing means.\n",
    "    - Use chi-square tests for categorical data.\n",
    "    - Use ANOVA for comparing means across more than two groups.\n",
    "5. **Perform the Test:** Apply the chosen statistical test to your data.\n",
    "6. **Interpret Results:**  \n",
    "    - Determine the p-value.\n",
    "    - Compare the p-value to α and interpret whether to reject or fail to reject the null hypothesis."
   ]
  },
  {
   "cell_type": "markdown",
   "id": "2cc49e77",
   "metadata": {},
   "source": [
    "Step 1: Data set - website_ab_test.csv\n",
    "Step 2: Define Hypothesis\n",
    "Null Hypothesis : No difference in the theme\n",
    "Alternate Hypothesis : Difference exists\n",
    "Step 3: Significance level (α) - 0.5\n"
   ]
  },
  {
   "cell_type": "code",
   "execution_count": 2,
   "id": "c73a71f2",
   "metadata": {},
   "outputs": [
    {
     "name": "stdout",
     "output_type": "stream",
     "text": [
      "Collecting pandas\n",
      "  Downloading pandas-2.3.0-cp313-cp313-macosx_11_0_arm64.whl.metadata (91 kB)\n",
      "Collecting numpy>=1.26.0 (from pandas)\n",
      "  Downloading numpy-2.3.0-cp313-cp313-macosx_14_0_arm64.whl.metadata (62 kB)\n",
      "Requirement already satisfied: python-dateutil>=2.8.2 in /Users/vijiashok/Documents/vscode_projects/trial_projects/phd_practice/.venv/lib/python3.13/site-packages (from pandas) (2.9.0.post0)\n",
      "Collecting pytz>=2020.1 (from pandas)\n",
      "  Using cached pytz-2025.2-py2.py3-none-any.whl.metadata (22 kB)\n",
      "Collecting tzdata>=2022.7 (from pandas)\n",
      "  Using cached tzdata-2025.2-py2.py3-none-any.whl.metadata (1.4 kB)\n",
      "Requirement already satisfied: six>=1.5 in /Users/vijiashok/Documents/vscode_projects/trial_projects/phd_practice/.venv/lib/python3.13/site-packages (from python-dateutil>=2.8.2->pandas) (1.17.0)\n",
      "Downloading pandas-2.3.0-cp313-cp313-macosx_11_0_arm64.whl (10.7 MB)\n",
      "\u001b[2K   \u001b[90m━━━━━━━━━━━━━━━━━━━━━━━━━━━━━━━━━━━━━━━━\u001b[0m \u001b[32m10.7/10.7 MB\u001b[0m \u001b[31m19.7 MB/s\u001b[0m eta \u001b[36m0:00:00\u001b[0m \u001b[36m0:00:01\u001b[0m\n",
      "\u001b[?25hDownloading numpy-2.3.0-cp313-cp313-macosx_14_0_arm64.whl (5.1 MB)\n",
      "\u001b[2K   \u001b[90m━━━━━━━━━━━━━━━━━━━━━━━━━━━━━━━━━━━━━━━━\u001b[0m \u001b[32m5.1/5.1 MB\u001b[0m \u001b[31m19.5 MB/s\u001b[0m eta \u001b[36m0:00:00\u001b[0ma \u001b[36m0:00:01\u001b[0m\n",
      "\u001b[?25hUsing cached pytz-2025.2-py2.py3-none-any.whl (509 kB)\n",
      "Using cached tzdata-2025.2-py2.py3-none-any.whl (347 kB)\n",
      "Installing collected packages: pytz, tzdata, numpy, pandas\n",
      "\u001b[2K   \u001b[90m━━━━━━━━━━━━━━━━━━━━━━━━━━━━━━━━━━━━━━━━\u001b[0m \u001b[32m4/4\u001b[0m [pandas]2m3/4\u001b[0m [pandas]\n",
      "\u001b[1A\u001b[2KSuccessfully installed numpy-2.3.0 pandas-2.3.0 pytz-2025.2 tzdata-2025.2\n",
      "Requirement already satisfied: numpy in /Users/vijiashok/Documents/vscode_projects/trial_projects/phd_practice/.venv/lib/python3.13/site-packages (2.3.0)\n",
      "Collecting scipy\n",
      "  Downloading scipy-1.15.3-cp313-cp313-macosx_14_0_arm64.whl.metadata (61 kB)\n",
      "Requirement already satisfied: numpy<2.5,>=1.23.5 in /Users/vijiashok/Documents/vscode_projects/trial_projects/phd_practice/.venv/lib/python3.13/site-packages (from scipy) (2.3.0)\n",
      "Downloading scipy-1.15.3-cp313-cp313-macosx_14_0_arm64.whl (22.4 MB)\n",
      "\u001b[2K   \u001b[90m━━━━━━━━━━━━━━━━━━━━━━━━━━━━━━━━━━━━━━━━\u001b[0m \u001b[32m22.4/22.4 MB\u001b[0m \u001b[31m20.2 MB/s\u001b[0m eta \u001b[36m0:00:00\u001b[0ma \u001b[36m0:00:01\u001b[0m\n",
      "\u001b[?25hInstalling collected packages: scipy\n",
      "Successfully installed scipy-1.15.3\n"
     ]
    }
   ],
   "source": [
    "!pip install pandas\n",
    "!pip install numpy\n",
    "!pip install scipy"
   ]
  },
  {
   "cell_type": "code",
   "execution_count": 3,
   "id": "ac970bb8",
   "metadata": {},
   "outputs": [
    {
     "name": "stdout",
     "output_type": "stream",
     "text": [
      "         Theme  Click Through Rate  Conversion Rate  Bounce Rate  \\\n",
      "0  Light Theme            0.054920         0.282367     0.405085   \n",
      "1  Light Theme            0.113932         0.032973     0.732759   \n",
      "2   Dark Theme            0.323352         0.178763     0.296543   \n",
      "3  Light Theme            0.485836         0.325225     0.245001   \n",
      "4  Light Theme            0.034783         0.196766     0.765100   \n",
      "\n",
      "   Scroll_Depth  Age   Location  Session_Duration Purchases Added_to_Cart  \n",
      "0     72.489458   25    Chennai              1535        No           Yes  \n",
      "1     61.858568   19       Pune               303        No           Yes  \n",
      "2     45.737376   47    Chennai               563       Yes           Yes  \n",
      "3     76.305298   58       Pune               385       Yes            No  \n",
      "4     48.927407   25  New Delhi              1437        No            No  \n"
     ]
    }
   ],
   "source": [
    "import pandas as pd\n",
    "from scipy.stats import ttest_ind\n",
    "\n",
    "df = pd.read_csv(\"./website_ab_test.csv\")\n",
    "\n",
    "print(df.head())"
   ]
  },
  {
   "cell_type": "code",
   "execution_count": 5,
   "id": "9289aa78",
   "metadata": {},
   "outputs": [
    {
     "data": {
      "text/html": [
       "<div>\n",
       "<style scoped>\n",
       "    .dataframe tbody tr th:only-of-type {\n",
       "        vertical-align: middle;\n",
       "    }\n",
       "\n",
       "    .dataframe tbody tr th {\n",
       "        vertical-align: top;\n",
       "    }\n",
       "\n",
       "    .dataframe thead th {\n",
       "        text-align: right;\n",
       "    }\n",
       "</style>\n",
       "<table border=\"1\" class=\"dataframe\">\n",
       "  <thead>\n",
       "    <tr style=\"text-align: right;\">\n",
       "      <th></th>\n",
       "      <th>Click Through Rate</th>\n",
       "      <th>Conversion Rate</th>\n",
       "      <th>Bounce Rate</th>\n",
       "      <th>Scroll_Depth</th>\n",
       "      <th>Age</th>\n",
       "      <th>Session_Duration</th>\n",
       "    </tr>\n",
       "  </thead>\n",
       "  <tbody>\n",
       "    <tr>\n",
       "      <th>count</th>\n",
       "      <td>1000.000000</td>\n",
       "      <td>1000.000000</td>\n",
       "      <td>1000.000000</td>\n",
       "      <td>1000.000000</td>\n",
       "      <td>1000.000000</td>\n",
       "      <td>1000.000000</td>\n",
       "    </tr>\n",
       "    <tr>\n",
       "      <th>mean</th>\n",
       "      <td>0.256048</td>\n",
       "      <td>0.253312</td>\n",
       "      <td>0.505758</td>\n",
       "      <td>50.319494</td>\n",
       "      <td>41.528000</td>\n",
       "      <td>924.999000</td>\n",
       "    </tr>\n",
       "    <tr>\n",
       "      <th>std</th>\n",
       "      <td>0.139265</td>\n",
       "      <td>0.139092</td>\n",
       "      <td>0.172195</td>\n",
       "      <td>16.895269</td>\n",
       "      <td>14.114334</td>\n",
       "      <td>508.231723</td>\n",
       "    </tr>\n",
       "    <tr>\n",
       "      <th>min</th>\n",
       "      <td>0.010767</td>\n",
       "      <td>0.010881</td>\n",
       "      <td>0.200720</td>\n",
       "      <td>20.011738</td>\n",
       "      <td>18.000000</td>\n",
       "      <td>38.000000</td>\n",
       "    </tr>\n",
       "    <tr>\n",
       "      <th>25%</th>\n",
       "      <td>0.140794</td>\n",
       "      <td>0.131564</td>\n",
       "      <td>0.353609</td>\n",
       "      <td>35.655167</td>\n",
       "      <td>29.000000</td>\n",
       "      <td>466.500000</td>\n",
       "    </tr>\n",
       "    <tr>\n",
       "      <th>50%</th>\n",
       "      <td>0.253715</td>\n",
       "      <td>0.252823</td>\n",
       "      <td>0.514049</td>\n",
       "      <td>51.130712</td>\n",
       "      <td>42.000000</td>\n",
       "      <td>931.000000</td>\n",
       "    </tr>\n",
       "    <tr>\n",
       "      <th>75%</th>\n",
       "      <td>0.370674</td>\n",
       "      <td>0.373040</td>\n",
       "      <td>0.648557</td>\n",
       "      <td>64.666258</td>\n",
       "      <td>54.000000</td>\n",
       "      <td>1375.250000</td>\n",
       "    </tr>\n",
       "    <tr>\n",
       "      <th>max</th>\n",
       "      <td>0.499989</td>\n",
       "      <td>0.498916</td>\n",
       "      <td>0.799658</td>\n",
       "      <td>79.997108</td>\n",
       "      <td>65.000000</td>\n",
       "      <td>1797.000000</td>\n",
       "    </tr>\n",
       "  </tbody>\n",
       "</table>\n",
       "</div>"
      ],
      "text/plain": [
       "       Click Through Rate  Conversion Rate  Bounce Rate  Scroll_Depth  \\\n",
       "count         1000.000000      1000.000000  1000.000000   1000.000000   \n",
       "mean             0.256048         0.253312     0.505758     50.319494   \n",
       "std              0.139265         0.139092     0.172195     16.895269   \n",
       "min              0.010767         0.010881     0.200720     20.011738   \n",
       "25%              0.140794         0.131564     0.353609     35.655167   \n",
       "50%              0.253715         0.252823     0.514049     51.130712   \n",
       "75%              0.370674         0.373040     0.648557     64.666258   \n",
       "max              0.499989         0.498916     0.799658     79.997108   \n",
       "\n",
       "               Age  Session_Duration  \n",
       "count  1000.000000       1000.000000  \n",
       "mean     41.528000        924.999000  \n",
       "std      14.114334        508.231723  \n",
       "min      18.000000         38.000000  \n",
       "25%      29.000000        466.500000  \n",
       "50%      42.000000        931.000000  \n",
       "75%      54.000000       1375.250000  \n",
       "max      65.000000       1797.000000  "
      ]
     },
     "execution_count": 5,
     "metadata": {},
     "output_type": "execute_result"
    }
   ],
   "source": [
    "df.describe()"
   ]
  },
  {
   "cell_type": "code",
   "execution_count": 6,
   "id": "4086d31f",
   "metadata": {},
   "outputs": [
    {
     "data": {
      "text/plain": [
       "{'Number of Records': 1000,\n",
       " 'Number of Columns': 10,\n",
       " 'Missing Values': Theme                 0\n",
       " Click Through Rate    0\n",
       " Conversion Rate       0\n",
       " Bounce Rate           0\n",
       " Scroll_Depth          0\n",
       " Age                   0\n",
       " Location              0\n",
       " Session_Duration      0\n",
       " Purchases             0\n",
       " Added_to_Cart         0\n",
       " dtype: int64}"
      ]
     },
     "execution_count": 6,
     "metadata": {},
     "output_type": "execute_result"
    }
   ],
   "source": [
    "# dataset summary\n",
    "summary = {\n",
    "    'Number of Records': df.shape[0],\n",
    "    'Number of Columns': df.shape[1],\n",
    "    'Missing Values': df.isnull().sum()\n",
    "}\n",
    "\n",
    "summary"
   ]
  },
  {
   "cell_type": "code",
   "execution_count": 24,
   "id": "3d2cc88e",
   "metadata": {},
   "outputs": [],
   "source": [
    "# grouping data by theme and calculating mean values for the metrics\n",
    "theme_performance = df.groupby('Theme')[['Conversion Rate', 'Bounce Rate', 'Session_Duration', 'Age', 'Scroll_Depth', 'Click Through Rate' ]].mean()"
   ]
  },
  {
   "cell_type": "code",
   "execution_count": 25,
   "id": "90f2f29a",
   "metadata": {},
   "outputs": [
    {
     "data": {
      "text/html": [
       "<div>\n",
       "<style scoped>\n",
       "    .dataframe tbody tr th:only-of-type {\n",
       "        vertical-align: middle;\n",
       "    }\n",
       "\n",
       "    .dataframe tbody tr th {\n",
       "        vertical-align: top;\n",
       "    }\n",
       "\n",
       "    .dataframe thead th {\n",
       "        text-align: right;\n",
       "    }\n",
       "</style>\n",
       "<table border=\"1\" class=\"dataframe\">\n",
       "  <thead>\n",
       "    <tr style=\"text-align: right;\">\n",
       "      <th></th>\n",
       "      <th>Conversion Rate</th>\n",
       "      <th>Bounce Rate</th>\n",
       "      <th>Session_Duration</th>\n",
       "      <th>Age</th>\n",
       "      <th>Scroll_Depth</th>\n",
       "      <th>Click Through Rate</th>\n",
       "    </tr>\n",
       "    <tr>\n",
       "      <th>Theme</th>\n",
       "      <th></th>\n",
       "      <th></th>\n",
       "      <th></th>\n",
       "      <th></th>\n",
       "      <th></th>\n",
       "      <th></th>\n",
       "    </tr>\n",
       "  </thead>\n",
       "  <tbody>\n",
       "    <tr>\n",
       "      <th>Light Theme</th>\n",
       "      <td>0.255459</td>\n",
       "      <td>0.499035</td>\n",
       "      <td>930.833333</td>\n",
       "      <td>41.734568</td>\n",
       "      <td>50.735232</td>\n",
       "      <td>0.247109</td>\n",
       "    </tr>\n",
       "    <tr>\n",
       "      <th>Dark Theme</th>\n",
       "      <td>0.251282</td>\n",
       "      <td>0.512115</td>\n",
       "      <td>919.482490</td>\n",
       "      <td>41.332685</td>\n",
       "      <td>49.926404</td>\n",
       "      <td>0.264501</td>\n",
       "    </tr>\n",
       "  </tbody>\n",
       "</table>\n",
       "</div>"
      ],
      "text/plain": [
       "             Conversion Rate  Bounce Rate  Session_Duration        Age  \\\n",
       "Theme                                                                    \n",
       "Light Theme         0.255459     0.499035        930.833333  41.734568   \n",
       "Dark Theme          0.251282     0.512115        919.482490  41.332685   \n",
       "\n",
       "             Scroll_Depth  Click Through Rate  \n",
       "Theme                                          \n",
       "Light Theme     50.735232            0.247109  \n",
       "Dark Theme      49.926404            0.264501  "
      ]
     },
     "execution_count": 25,
     "metadata": {},
     "output_type": "execute_result"
    }
   ],
   "source": [
    "theme_performance_coversation_rate = theme_performance.sort_values(by='Conversion Rate', ascending=False)\n",
    "theme_performance_coversation_rate"
   ]
  },
  {
   "cell_type": "markdown",
   "id": "917259bd",
   "metadata": {},
   "source": [
    "DT > LT\n",
    "Click through Rate \n",
    "Bounce Rate\n",
    "\n",
    "LT > DT\n",
    "Conversion Rate\n",
    "Session_Duration\n",
    "Age\n",
    "Scroll_Depth\n"
   ]
  },
  {
   "cell_type": "markdown",
   "id": "ee0e2dcb",
   "metadata": {},
   "source": [
    "### Our hypotheses are as follows:\n",
    "\n",
    "- **Null Hypothesis (H₀):** There is no difference in Conversion Rates between the Light Theme and Dark Theme.\n",
    "- **Alternative Hypothesis (Hₐ):** There is a difference in Conversion Rates between the Light Theme and Dark Theme."
   ]
  },
  {
   "cell_type": "code",
   "execution_count": 30,
   "id": "6cd19d39",
   "metadata": {},
   "outputs": [
    {
     "name": "stdout",
     "output_type": "stream",
     "text": [
      "2      0.323352\n",
      "8      0.110551\n",
      "16     0.302031\n",
      "18     0.492174\n",
      "19     0.493888\n",
      "         ...   \n",
      "992    0.265413\n",
      "993    0.212645\n",
      "995    0.282792\n",
      "996    0.299917\n",
      "999    0.342588\n",
      "Name: Click Through Rate, Length: 514, dtype: float64 0      0.054920\n",
      "1      0.113932\n",
      "3      0.485836\n",
      "4      0.034783\n",
      "5      0.173419\n",
      "         ...   \n",
      "989    0.126083\n",
      "991    0.492991\n",
      "994    0.144825\n",
      "997    0.370254\n",
      "998    0.095815\n",
      "Name: Click Through Rate, Length: 486, dtype: float64\n"
     ]
    },
    {
     "data": {
      "text/plain": [
       "(np.float64(-1.9781708664172253), np.float64(0.04818435371010704))"
      ]
     },
     "execution_count": 30,
     "metadata": {},
     "output_type": "execute_result"
    }
   ],
   "source": [
    "# extracting click through rates for both themes\n",
    "ctr_light = df[df['Theme'] == 'Light Theme']['Click Through Rate']\n",
    "ctr_dark = df[df['Theme'] == 'Dark Theme']['Click Through Rate']\n",
    "\n",
    "print(ctr_dark, ctr_light)\n",
    "\n",
    "# performing a two-sample t-test\n",
    "t_stat_ctr, p_value_ctr = ttest_ind(ctr_light, ctr_dark, equal_var=False)\n",
    "\n",
    "t_stat_ctr, p_value_ctr"
   ]
  },
  {
   "cell_type": "code",
   "execution_count": 46,
   "id": "06c726cc",
   "metadata": {},
   "outputs": [
    {
     "name": "stdout",
     "output_type": "stream",
     "text": [
      "               Metric  t-statistic   p-value\n",
      "0         Bounce Rate    -1.201888  0.229692\n",
      "1    Session Duration     0.352912  0.724229\n",
      "2     Conversion Rate     0.474849  0.634998\n",
      "3  Click Through Rate    -1.978171  0.048184\n",
      "4        Scroll_Depth     0.756228  0.449692\n"
     ]
    }
   ],
   "source": [
    "\n",
    "# extracting bounce rates for both themes\n",
    "bounce_light_br = df[df['Theme'] == 'Light Theme']['Bounce Rate']\n",
    "bounce_dark_br = df[df['Theme'] == 'Dark Theme']['Bounce Rate']\n",
    "\n",
    "# t-test for Bounce Rate\n",
    "t_stat_bounce, p_value_bounce = ttest_ind(bounce_light_br, bounce_dark_br, equal_var=False)\n",
    "\n",
    "# extracting session durations for both themes\n",
    "session_light_sd = df[df['Theme'] == 'Light Theme']['Session_Duration']\n",
    "session_dark_sd = df[df['Theme'] == 'Dark Theme']['Session_Duration']\n",
    "\n",
    "# t-test for Session Duration\n",
    "t_stat_session, p_value_session = ttest_ind(session_light_sd, session_dark_sd, equal_var=False)\n",
    "\n",
    "# extracting session durations for both themes\n",
    "session_light = df[df['Theme'] == 'Light Theme']['Conversion Rate']\n",
    "session_dark = df[df['Theme'] == 'Dark Theme']['Conversion Rate']\n",
    "\n",
    "# t-test for Session Duration\n",
    "t_stat_cr, p_value_cr = ttest_ind(session_light, session_dark, equal_var=False)\n",
    "\n",
    "# extracting scroll depths for both themes\n",
    "scroll_depth_light = df[df['Theme'] == 'Light Theme']['Scroll_Depth']\n",
    "scroll_depth_dark = df[df['Theme'] == 'Dark Theme']['Scroll_Depth']\n",
    "\n",
    "# performing a two-sample t-test for scroll depth\n",
    "t_stat_scroll, p_value_scroll = ttest_ind(scroll_depth_light, scroll_depth_dark, equal_var=False)\n",
    "\n",
    "\n",
    "# performing a two-sample t-test for Click Through Rate\n",
    "t_stat_ctr, p_value_ctr = ttest_ind(ctr_light, ctr_dark, equal_var=False)\n",
    "\n",
    "# comparison summary for all metrics\n",
    "comparison = pd.DataFrame({\n",
    "    'Metric': ['Bounce Rate', 'Session Duration', 'Conversion Rate', 'Click Through Rate', 'Scroll_Depth'],\n",
    "    't-statistic': [t_stat_bounce, t_stat_session, t_stat_cr, t_stat_ctr, t_stat_scroll],\n",
    "    'p-value': [p_value_bounce, p_value_session, p_value_cr, p_value_ctr, p_value_scroll]\n",
    "})\n",
    "\n",
    "print(comparison)"
   ]
  },
  {
   "cell_type": "code",
   "execution_count": 56,
   "id": "b8720c47",
   "metadata": {},
   "outputs": [
    {
     "data": {
      "text/plain": [
       "486"
      ]
     },
     "execution_count": 56,
     "metadata": {},
     "output_type": "execute_result"
    }
   ],
   "source": [
    "len(bounce_light_br)\n"
   ]
  },
  {
   "cell_type": "code",
   "execution_count": 57,
   "id": "8f10b5ba",
   "metadata": {},
   "outputs": [
    {
     "data": {
      "text/plain": [
       "514"
      ]
     },
     "execution_count": 57,
     "metadata": {},
     "output_type": "execute_result"
    }
   ],
   "source": [
    "len(bounce_dark_br)"
   ]
  },
  {
   "cell_type": "code",
   "execution_count": 37,
   "id": "21979a9a",
   "metadata": {},
   "outputs": [],
   "source": [
    "# extracting session durations for both themes\n",
    "session_light = df[df['Theme'] == 'Light Theme']['Conversion Rate']\n",
    "session_dark = df[df['Theme'] == 'Dark Theme']['Conversion Rate']\n",
    "\n",
    "# t-test for Session Duration\n",
    "t_stat_cr, p_value_cr = ttest_ind(session_light, session_dark, equal_var=False)"
   ]
  },
  {
   "cell_type": "code",
   "execution_count": 52,
   "id": "bd6288dc",
   "metadata": {},
   "outputs": [
    {
     "data": {
      "text/html": [
       "<div>\n",
       "<style scoped>\n",
       "    .dataframe tbody tr th:only-of-type {\n",
       "        vertical-align: middle;\n",
       "    }\n",
       "\n",
       "    .dataframe tbody tr th {\n",
       "        vertical-align: top;\n",
       "    }\n",
       "\n",
       "    .dataframe thead th {\n",
       "        text-align: right;\n",
       "    }\n",
       "</style>\n",
       "<table border=\"1\" class=\"dataframe\">\n",
       "  <thead>\n",
       "    <tr style=\"text-align: right;\">\n",
       "      <th></th>\n",
       "      <th>Metric</th>\n",
       "      <th>T-Statistic</th>\n",
       "      <th>P-Value</th>\n",
       "    </tr>\n",
       "  </thead>\n",
       "  <tbody>\n",
       "    <tr>\n",
       "      <th>0</th>\n",
       "      <td>Click Through Rate</td>\n",
       "      <td>-1.978171</td>\n",
       "      <td>0.048184</td>\n",
       "    </tr>\n",
       "    <tr>\n",
       "      <th>1</th>\n",
       "      <td>Conversion Rate</td>\n",
       "      <td>0.474849</td>\n",
       "      <td>0.634998</td>\n",
       "    </tr>\n",
       "    <tr>\n",
       "      <th>2</th>\n",
       "      <td>Bounce Rate</td>\n",
       "      <td>-1.201888</td>\n",
       "      <td>0.229692</td>\n",
       "    </tr>\n",
       "    <tr>\n",
       "      <th>3</th>\n",
       "      <td>Scroll Depth</td>\n",
       "      <td>0.756228</td>\n",
       "      <td>0.449692</td>\n",
       "    </tr>\n",
       "  </tbody>\n",
       "</table>\n",
       "</div>"
      ],
      "text/plain": [
       "               Metric  T-Statistic   P-Value\n",
       "0  Click Through Rate    -1.978171  0.048184\n",
       "1     Conversion Rate     0.474849  0.634998\n",
       "2         Bounce Rate    -1.201888  0.229692\n",
       "3        Scroll Depth     0.756228  0.449692"
      ]
     },
     "execution_count": 52,
     "metadata": {},
     "output_type": "execute_result"
    }
   ],
   "source": [
    "# extracting bounce rates for both themes\n",
    "bounce_rates_light = df[df['Theme'] == 'Light Theme']['Bounce Rate']\n",
    "bounce_rates_dark = df[df['Theme'] == 'Dark Theme']['Bounce Rate']\n",
    "\n",
    "# performing a two-sample t-test for bounce rate\n",
    "t_stat_bounce, p_value_bounce = ttest_ind(bounce_rates_light, bounce_rates_dark, equal_var=False)\n",
    "\n",
    "# extracting scroll depths for both themes\n",
    "scroll_depth_light = df[df['Theme'] == 'Light Theme']['Scroll_Depth']\n",
    "scroll_depth_dark = df[df['Theme'] == 'Dark Theme']['Scroll_Depth']\n",
    "\n",
    "# performing a two-sample t-test for scroll depth\n",
    "t_stat_scroll, p_value_scroll = ttest_ind(scroll_depth_light, scroll_depth_dark, equal_var=False)\n",
    "\n",
    "# creating a table for comparison\n",
    "comparison_table = pd.DataFrame({\n",
    "    'Metric': ['Click Through Rate', 'Conversion Rate', 'Bounce Rate', 'Scroll Depth'],\n",
    "    'T-Statistic': [t_stat_ctr, t_stat_cr, t_stat_bounce, t_stat_scroll],\n",
    "    'P-Value': [p_value_ctr, p_value_cr, p_value_bounce, p_value_scroll]\n",
    "})\n",
    "\n",
    "comparison_table"
   ]
  },
  {
   "cell_type": "code",
   "execution_count": 51,
   "id": "41956d7e",
   "metadata": {},
   "outputs": [
    {
     "data": {
      "text/html": [
       "<div>\n",
       "<style scoped>\n",
       "    .dataframe tbody tr th:only-of-type {\n",
       "        vertical-align: middle;\n",
       "    }\n",
       "\n",
       "    .dataframe tbody tr th {\n",
       "        vertical-align: top;\n",
       "    }\n",
       "\n",
       "    .dataframe thead th {\n",
       "        text-align: right;\n",
       "    }\n",
       "</style>\n",
       "<table border=\"1\" class=\"dataframe\">\n",
       "  <thead>\n",
       "    <tr style=\"text-align: right;\">\n",
       "      <th></th>\n",
       "      <th>t-statistic</th>\n",
       "      <th>p-value</th>\n",
       "      <th>Significant</th>\n",
       "    </tr>\n",
       "  </thead>\n",
       "  <tbody>\n",
       "    <tr>\n",
       "      <th>Click Through Rate</th>\n",
       "      <td>-1.978171</td>\n",
       "      <td>0.048184</td>\n",
       "      <td>True</td>\n",
       "    </tr>\n",
       "    <tr>\n",
       "      <th>Bounce Rate</th>\n",
       "      <td>-1.201888</td>\n",
       "      <td>0.229692</td>\n",
       "      <td>False</td>\n",
       "    </tr>\n",
       "    <tr>\n",
       "      <th>Session Duration</th>\n",
       "      <td>0.352912</td>\n",
       "      <td>0.724229</td>\n",
       "      <td>False</td>\n",
       "    </tr>\n",
       "    <tr>\n",
       "      <th>Conversion Rate</th>\n",
       "      <td>0.474849</td>\n",
       "      <td>0.634998</td>\n",
       "      <td>False</td>\n",
       "    </tr>\n",
       "    <tr>\n",
       "      <th>Scroll Depth</th>\n",
       "      <td>0.756228</td>\n",
       "      <td>0.449692</td>\n",
       "      <td>False</td>\n",
       "    </tr>\n",
       "  </tbody>\n",
       "</table>\n",
       "</div>"
      ],
      "text/plain": [
       "                   t-statistic   p-value Significant\n",
       "Click Through Rate   -1.978171  0.048184        True\n",
       "Bounce Rate          -1.201888  0.229692       False\n",
       "Session Duration      0.352912  0.724229       False\n",
       "Conversion Rate       0.474849  0.634998       False\n",
       "Scroll Depth          0.756228  0.449692       False"
      ]
     },
     "execution_count": 51,
     "metadata": {},
     "output_type": "execute_result"
    }
   ],
   "source": [
    "#Analyze statistical significance for each metric using p-values\n",
    "\n",
    "alpha = 0.05  #significance level\n",
    "\n",
    "results = {\n",
    "    'Click Through Rate': {\n",
    "        't-statistic': t_stat_ctr,\n",
    "        'p-value': p_value_ctr,\n",
    "        'Significant': p_value_ctr < alpha\n",
    "    },\n",
    "    'Bounce Rate': {\n",
    "        't-statistic': t_stat_bounce,\n",
    "        'p-value': p_value_bounce,\n",
    "        'Significant': p_value_bounce < alpha\n",
    "    },\n",
    "    'Session Duration': {\n",
    "        't-statistic': t_stat_session,\n",
    "        'p-value': p_value_session,\n",
    "        'Significant': p_value_session < alpha\n",
    "    },\n",
    "    'Conversion Rate': {\n",
    "        't-statistic': t_stat_cr,\n",
    "        'p-value': p_value_cr,\n",
    "        'Significant': p_value_cr < alpha\n",
    "    },\n",
    "    'Scroll Depth': {\n",
    "        't-statistic': t_stat_scroll,\n",
    "        'p-value': p_value_scroll,\n",
    "        'Significant': p_value_scroll < alpha\n",
    "    }\n",
    "}\n",
    "\n",
    "#Display results\n",
    "pd.DataFrame(results).T"
   ]
  },
  {
   "cell_type": "markdown",
   "id": "8a23185d",
   "metadata": {},
   "source": [
    "- Click Through Rate: The test reveals a statistically significant difference, with the Dark Theme likely performing better (P-Value = 0.048).\n",
    "- Conversion Rate: No statistically significant difference was found (P-Value = 0.635).\n",
    "- Bounce Rate: There’s no statistically significant difference in Bounce Rates between the themes (P-Value = 0.230).\n",
    "- Scroll Depth: Similarly, no statistically significant difference is observed in Scroll Depths (P-Value = 0.450).\n",
    "- In summary, while the two themes perform similarly across most metrics, the Dark Theme has a slight edge in terms of engaging users to click through."
   ]
  },
  {
   "cell_type": "markdown",
   "id": "4a468ba2",
   "metadata": {},
   "source": []
  }
 ],
 "metadata": {
  "kernelspec": {
   "display_name": ".venv",
   "language": "python",
   "name": "python3"
  },
  "language_info": {
   "codemirror_mode": {
    "name": "ipython",
    "version": 3
   },
   "file_extension": ".py",
   "mimetype": "text/x-python",
   "name": "python",
   "nbconvert_exporter": "python",
   "pygments_lexer": "ipython3",
   "version": "3.13.4"
  }
 },
 "nbformat": 4,
 "nbformat_minor": 5
}
